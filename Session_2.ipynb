{
 "cells": [
  {
   "cell_type": "code",
   "execution_count": 1,
   "id": "b05413b4",
   "metadata": {},
   "outputs": [],
   "source": [
    "import os"
   ]
  },
  {
   "cell_type": "code",
   "execution_count": 2,
   "id": "02dc2bd1",
   "metadata": {},
   "outputs": [
    {
     "data": {
      "text/plain": [
       "'C:\\\\Users\\\\amitk\\\\Documents\\\\Naresh IT\\\\Python'"
      ]
     },
     "execution_count": 2,
     "metadata": {},
     "output_type": "execute_result"
    }
   ],
   "source": [
    "os.getcwd()"
   ]
  },
  {
   "cell_type": "markdown",
   "id": "24236f3e",
   "metadata": {},
   "source": [
    "* in built function"
   ]
  },
  {
   "cell_type": "code",
   "execution_count": 3,
   "id": "c515e79b",
   "metadata": {},
   "outputs": [
    {
     "data": {
      "text/plain": [
       "<function nt.getcwd()>"
      ]
     },
     "execution_count": 3,
     "metadata": {},
     "output_type": "execute_result"
    }
   ],
   "source": [
    "os.getcwd"
   ]
  },
  {
   "cell_type": "code",
   "execution_count": 4,
   "id": "8cbe6d2f",
   "metadata": {},
   "outputs": [
    {
     "data": {
      "text/plain": [
       "'C:\\\\Users\\\\amitk\\\\Documents\\\\Naresh IT\\\\Python'"
      ]
     },
     "execution_count": 4,
     "metadata": {},
     "output_type": "execute_result"
    }
   ],
   "source": [
    "os.getcwd()"
   ]
  },
  {
   "cell_type": "markdown",
   "id": "d6ed0b23",
   "metadata": {},
   "source": [
    "# Data Types"
   ]
  },
  {
   "cell_type": "markdown",
   "id": "5c3d03b6",
   "metadata": {},
   "source": [
    "- int\n",
    "\n",
    "- float\n",
    "\n",
    "- bool\n",
    "\n",
    "- str\n",
    "\n",
    "- complex"
   ]
  },
  {
   "cell_type": "markdown",
   "id": "97b6bed9",
   "metadata": {},
   "source": [
    "- range\n",
    "\n",
    "- list\n",
    "\n",
    "- tuple\n",
    "\n",
    "- dict\n",
    "\n",
    "- set\n",
    "\n",
    "- frozenset\n",
    "\n",
    "- bytes\n",
    "\n",
    "- bytearray\n",
    "\n",
    "- memoryview"
   ]
  },
  {
   "cell_type": "markdown",
   "id": "f52bf55a",
   "metadata": {},
   "source": [
    "# ===================\n",
    "* python bacis\n",
    "    - variable\n",
    "    \n",
    "    - Data type\n",
    "    \n",
    "    - Type casting\n",
    "    \n",
    "    - print statements\n",
    "    \n",
    "    - basic codes\n",
    "    \n",
    "    - input, eval , round\n",
    "    \n",
    "    - packages or libraries ,\n",
    "    \n",
    "    - conditional statements\n",
    "    \n",
    "    - exceptonal handling\n",
    "    \n",
    "    - funtions\n",
    "    \n",
    "    - for and while loop\n",
    "    \n",
    "* python core\n",
    "    - string\n",
    "    \n",
    "    - list\n",
    "    \n",
    "        - list comprehension\n",
    "    \n",
    "    - tuple   #   students explained topics\n",
    "    \n",
    "    - dictionary\n",
    "    \n",
    "    - lambda functions\n",
    "    \n",
    "    - file handling\n",
    "    \n",
    "    30 days\n",
    "\n",
    "* python advanced\n",
    "\n",
    "    - OOPS EDA ML\n",
    "    \n",
    "    \n"
   ]
  },
  {
   "cell_type": "markdown",
   "id": "e486072a",
   "metadata": {},
   "source": [
    "# INTERGER"
   ]
  },
  {
   "cell_type": "code",
   "execution_count": 7,
   "id": "77b99d2b",
   "metadata": {},
   "outputs": [
    {
     "data": {
      "text/plain": [
       "28"
      ]
     },
     "execution_count": 7,
     "metadata": {},
     "output_type": "execute_result"
    }
   ],
   "source": [
    "X=28\n",
    "X"
   ]
  },
  {
   "cell_type": "code",
   "execution_count": 8,
   "id": "6a40e268",
   "metadata": {},
   "outputs": [
    {
     "data": {
      "text/plain": [
       "int"
      ]
     },
     "execution_count": 8,
     "metadata": {},
     "output_type": "execute_result"
    }
   ],
   "source": [
    "type(X)"
   ]
  },
  {
   "cell_type": "markdown",
   "id": "27a6aaae",
   "metadata": {},
   "source": [
    "# float"
   ]
  },
  {
   "cell_type": "code",
   "execution_count": 11,
   "id": "dd555aa8",
   "metadata": {},
   "outputs": [
    {
     "name": "stdout",
     "output_type": "stream",
     "text": [
      "55.907\n"
     ]
    },
    {
     "data": {
      "text/plain": [
       "float"
      ]
     },
     "execution_count": 11,
     "metadata": {},
     "output_type": "execute_result"
    }
   ],
   "source": [
    "num=55.907\n",
    "print(num)\n",
    "type(num)"
   ]
  },
  {
   "cell_type": "code",
   "execution_count": 12,
   "id": "084a717f",
   "metadata": {},
   "outputs": [
    {
     "data": {
      "text/plain": [
       "100.0"
      ]
     },
     "execution_count": 12,
     "metadata": {},
     "output_type": "execute_result"
    }
   ],
   "source": [
    "10e1\n"
   ]
  },
  {
   "cell_type": "code",
   "execution_count": 13,
   "id": "ee7704f8",
   "metadata": {},
   "outputs": [
    {
     "data": {
      "text/plain": [
       "1000.0"
      ]
     },
     "execution_count": 13,
     "metadata": {},
     "output_type": "execute_result"
    }
   ],
   "source": [
    "10e2"
   ]
  },
  {
   "cell_type": "code",
   "execution_count": 14,
   "id": "67eba11f",
   "metadata": {},
   "outputs": [
    {
     "name": "stdout",
     "output_type": "stream",
     "text": [
      "100.0\n",
      "1000.0\n",
      "10000.0\n"
     ]
    }
   ],
   "source": [
    "print(10e1) # 10*10\n",
    "print(10e2) # 10*100\n",
    "print(10e3) # 10*1000"
   ]
  },
  {
   "cell_type": "code",
   "execution_count": 16,
   "id": "51c721b1",
   "metadata": {},
   "outputs": [
    {
     "name": "stdout",
     "output_type": "stream",
     "text": [
      "1.0\n",
      "0.1\n",
      "0.01\n"
     ]
    }
   ],
   "source": [
    "print(10e-1) # 10/10\n",
    "print(10e-2) # 10/100\n",
    "print(10e-3) # 10/1000"
   ]
  },
  {
   "cell_type": "code",
   "execution_count": 21,
   "id": "965f3390",
   "metadata": {},
   "outputs": [
    {
     "name": "stdout",
     "output_type": "stream",
     "text": [
      "1.9e-05\n"
     ]
    }
   ],
   "source": [
    "print(1.9e-5)"
   ]
  },
  {
   "cell_type": "code",
   "execution_count": 25,
   "id": "e82fc749",
   "metadata": {},
   "outputs": [
    {
     "name": "stdout",
     "output_type": "stream",
     "text": [
      "100.0\n"
     ]
    }
   ],
   "source": [
    "print(10e+1)"
   ]
  },
  {
   "cell_type": "code",
   "execution_count": 26,
   "id": "56967370",
   "metadata": {},
   "outputs": [
    {
     "name": "stdout",
     "output_type": "stream",
     "text": [
      "100.0\n"
     ]
    }
   ],
   "source": [
    "print(10e+1)"
   ]
  },
  {
   "cell_type": "code",
   "execution_count": 27,
   "id": "e8b84849",
   "metadata": {},
   "outputs": [
    {
     "data": {
      "text/plain": [
       "True"
      ]
     },
     "execution_count": 27,
     "metadata": {},
     "output_type": "execute_result"
    }
   ],
   "source": [
    "10e+1==10e1"
   ]
  },
  {
   "cell_type": "code",
   "execution_count": 32,
   "id": "c2897642",
   "metadata": {},
   "outputs": [
    {
     "name": "stdout",
     "output_type": "stream",
     "text": [
      "100.0\n"
     ]
    }
   ],
   "source": [
    "print(1e2)"
   ]
  },
  {
   "cell_type": "code",
   "execution_count": 33,
   "id": "b01453a8",
   "metadata": {},
   "outputs": [
    {
     "data": {
      "text/plain": [
       "False"
      ]
     },
     "execution_count": 33,
     "metadata": {},
     "output_type": "execute_result"
    }
   ],
   "source": [
    "10e+1==10e2"
   ]
  },
  {
   "cell_type": "markdown",
   "id": "0558cfbb",
   "metadata": {},
   "source": [
    "# String"
   ]
  },
  {
   "cell_type": "code",
   "execution_count": 36,
   "id": "e571a1bd",
   "metadata": {},
   "outputs": [],
   "source": [
    "Sum=100"
   ]
  },
  {
   "cell_type": "code",
   "execution_count": 37,
   "id": "afd2f2a2",
   "metadata": {},
   "outputs": [],
   "source": [
    "AMIT=500"
   ]
  },
  {
   "cell_type": "code",
   "execution_count": 38,
   "id": "49caae5f",
   "metadata": {},
   "outputs": [
    {
     "data": {
      "text/plain": [
       "500"
      ]
     },
     "execution_count": 38,
     "metadata": {},
     "output_type": "execute_result"
    }
   ],
   "source": [
    "AMIT"
   ]
  },
  {
   "cell_type": "code",
   "execution_count": 41,
   "id": "94051f15",
   "metadata": {},
   "outputs": [],
   "source": [
    "str1='NAME'"
   ]
  },
  {
   "cell_type": "code",
   "execution_count": 42,
   "id": "05dcd123",
   "metadata": {},
   "outputs": [
    {
     "data": {
      "text/plain": [
       "'NAME'"
      ]
     },
     "execution_count": 42,
     "metadata": {},
     "output_type": "execute_result"
    }
   ],
   "source": [
    "str1"
   ]
  },
  {
   "cell_type": "code",
   "execution_count": 44,
   "id": "6251413a",
   "metadata": {},
   "outputs": [
    {
     "name": "stdout",
     "output_type": "stream",
     "text": [
      "<class 'str'>\n"
     ]
    },
    {
     "data": {
      "text/plain": [
       "'noida'"
      ]
     },
     "execution_count": 44,
     "metadata": {},
     "output_type": "execute_result"
    }
   ],
   "source": [
    "city='noida'\n",
    "print(type(city))\n",
    "city\n"
   ]
  },
  {
   "cell_type": "code",
   "execution_count": 45,
   "id": "3cd3238f",
   "metadata": {},
   "outputs": [
    {
     "name": "stdout",
     "output_type": "stream",
     "text": [
      " Hello\n"
     ]
    }
   ],
   "source": [
    "print(\" Hello\")"
   ]
  },
  {
   "cell_type": "code",
   "execution_count": 46,
   "id": "4dc6049f",
   "metadata": {},
   "outputs": [
    {
     "name": "stdout",
     "output_type": "stream",
     "text": [
      "hello \n"
     ]
    }
   ],
   "source": [
    "print(\"hello \")"
   ]
  },
  {
   "cell_type": "code",
   "execution_count": 52,
   "id": "0f80f501",
   "metadata": {},
   "outputs": [
    {
     "data": {
      "text/plain": [
       "7"
      ]
     },
     "execution_count": 52,
     "metadata": {},
     "output_type": "execute_result"
    }
   ],
   "source": [
    "len(   ' hello  '  )"
   ]
  },
  {
   "cell_type": "code",
   "execution_count": 50,
   "id": "d33bf8b7",
   "metadata": {},
   "outputs": [
    {
     "ename": "SyntaxError",
     "evalue": "EOL while scanning string literal (2219190723.py, line 1)",
     "output_type": "error",
     "traceback": [
      "\u001b[1;36m  File \u001b[1;32m\"C:\\Users\\amitk\\AppData\\Local\\Temp\\ipykernel_21024\\2219190723.py\"\u001b[1;36m, line \u001b[1;32m1\u001b[0m\n\u001b[1;33m    \"Amit'\u001b[0m\n\u001b[1;37m          ^\u001b[0m\n\u001b[1;31mSyntaxError\u001b[0m\u001b[1;31m:\u001b[0m EOL while scanning string literal\n"
     ]
    }
   ],
   "source": [
    "\"Amit'"
   ]
  },
  {
   "cell_type": "markdown",
   "id": "b389c724",
   "metadata": {},
   "source": [
    "## Name not found error\n",
    "\n",
    "- Name means variable is not written before\n",
    "\n",
    "- And we are trying to use that\n",
    "\n",
    "- Check the variable name have you writtn before or not"
   ]
  },
  {
   "cell_type": "code",
   "execution_count": 3,
   "id": "80067c5d",
   "metadata": {},
   "outputs": [
    {
     "data": {
      "text/plain": [
       "('python', 'python')"
      ]
     },
     "execution_count": 3,
     "metadata": {},
     "output_type": "execute_result"
    }
   ],
   "source": [
    "str1='python'\n",
    "str2=\"python\"\n",
    "str1,str2"
   ]
  },
  {
   "cell_type": "code",
   "execution_count": 4,
   "id": "96388cff",
   "metadata": {},
   "outputs": [
    {
     "name": "stdout",
     "output_type": "stream",
     "text": [
      "python\n",
      "python\n"
     ]
    }
   ],
   "source": [
    "str1='python'\n",
    "str2=\"python\"\n",
    "print(str1)\n",
    "print(str2)"
   ]
  },
  {
   "cell_type": "code",
   "execution_count": 6,
   "id": "ca66fd3a",
   "metadata": {},
   "outputs": [
    {
     "name": "stdout",
     "output_type": "stream",
     "text": [
      "I like \"python\"\n"
     ]
    }
   ],
   "source": [
    "print('I like \"python\"')"
   ]
  },
  {
   "cell_type": "code",
   "execution_count": 8,
   "id": "2cbbc7d3",
   "metadata": {},
   "outputs": [
    {
     "name": "stdout",
     "output_type": "stream",
     "text": [
      "I am studying at\"Naresh IT\"\n"
     ]
    }
   ],
   "source": [
    "print('I am studying at \"Naresh IT\"')"
   ]
  },
  {
   "cell_type": "code",
   "execution_count": 10,
   "id": "a3326c50",
   "metadata": {},
   "outputs": [
    {
     "ename": "SyntaxError",
     "evalue": "invalid syntax (2621778477.py, line 1)",
     "output_type": "error",
     "traceback": [
      "\u001b[1;36m  File \u001b[1;32m\"C:\\Users\\amitk\\AppData\\Local\\Temp\\ipykernel_9732\\2621778477.py\"\u001b[1;36m, line \u001b[1;32m1\u001b[0m\n\u001b[1;33m    print('I am studying at 'Naresh IT' ')\u001b[0m\n\u001b[1;37m                             ^\u001b[0m\n\u001b[1;31mSyntaxError\u001b[0m\u001b[1;31m:\u001b[0m invalid syntax\n"
     ]
    }
   ],
   "source": [
    "print('I am studying at 'Naresh IT' ')"
   ]
  },
  {
   "cell_type": "code",
   "execution_count": 12,
   "id": "b74bddaa",
   "metadata": {},
   "outputs": [
    {
     "name": "stdout",
     "output_type": "stream",
     "text": [
      "I am studying at 'Naresh IT'\n"
     ]
    }
   ],
   "source": [
    "print(\"I am studying at 'Naresh IT'\")"
   ]
  },
  {
   "cell_type": "code",
   "execution_count": 13,
   "id": "f1cd6b61",
   "metadata": {},
   "outputs": [
    {
     "ename": "SyntaxError",
     "evalue": "invalid syntax (1648031981.py, line 1)",
     "output_type": "error",
     "traceback": [
      "\u001b[1;36m  File \u001b[1;32m\"C:\\Users\\amitk\\AppData\\Local\\Temp\\ipykernel_9732\\1648031981.py\"\u001b[1;36m, line \u001b[1;32m1\u001b[0m\n\u001b[1;33m    print(\"I am studying at \"Naresh IT\" \")\u001b[0m\n\u001b[1;37m                             ^\u001b[0m\n\u001b[1;31mSyntaxError\u001b[0m\u001b[1;31m:\u001b[0m invalid syntax\n"
     ]
    }
   ],
   "source": [
    "print(\"I am studying at \"Naresh IT\" \")"
   ]
  },
  {
   "cell_type": "markdown",
   "id": "3b8a66cc",
   "metadata": {},
   "source": [
    "**Note**\n",
    "\n",
    "- Entire sting in single quotes\n",
    "\n",
    "\n",
    "- Highlite the word in double quote vice versa"
   ]
  },
  {
   "cell_type": "markdown",
   "id": "cee60c00",
   "metadata": {},
   "source": [
    "**Triple Quotes**\n"
   ]
  },
  {
   "cell_type": "code",
   "execution_count": 17,
   "id": "3bb71a48",
   "metadata": {},
   "outputs": [
    {
     "data": {
      "text/plain": [
       "'My name is python\\nI m 10 years old\\nI came from hyderaba'"
      ]
     },
     "execution_count": 17,
     "metadata": {},
     "output_type": "execute_result"
    }
   ],
   "source": [
    "\"\"\"My name is python\n",
    "I m 10 years old\n",
    "I came from hyderaba\"\"\""
   ]
  },
  {
   "cell_type": "code",
   "execution_count": 19,
   "id": "67621e2d",
   "metadata": {},
   "outputs": [
    {
     "name": "stdout",
     "output_type": "stream",
     "text": [
      "My name is python\n",
      "I m 10 years old\n",
      "I came from hyderabad\n"
     ]
    }
   ],
   "source": [
    "print( \"\"\"My name is python\n",
    "I m 10 years old\n",
    "I came from hyderabad\"\"\")"
   ]
  },
  {
   "cell_type": "markdown",
   "id": "fcab7dda",
   "metadata": {},
   "source": [
    "**Doc string**\n",
    "\n",
    "- we will write the information about python file\n",
    "\n",
    "- we will write the information about functions\n",
    "\n",
    "- To make user familier with our python code\n",
    "\n",
    "- we will use triple quotes\n",
    "\n",
    "- It is nothing but a Multiline in a coding\n",
    "\n",
    "- never use triple quotes in a coding\n",
    "\n",
    "- Triple quotes means convey the info. is called as **Doc Sting**"
   ]
  },
  {
   "cell_type": "code",
   "execution_count": 20,
   "id": "c2b93ed3",
   "metadata": {},
   "outputs": [],
   "source": [
    "import os"
   ]
  },
  {
   "cell_type": "code",
   "execution_count": 25,
   "id": "d7f61a64",
   "metadata": {},
   "outputs": [
    {
     "data": {
      "text/plain": [
       "'hello'"
      ]
     },
     "execution_count": 25,
     "metadata": {},
     "output_type": "execute_result"
    }
   ],
   "source": [
    "''' hello '''\n",
    "\" hello \"\n",
    "'hello'\n",
    "# \"\"\" hello \"\"\""
   ]
  },
  {
   "cell_type": "code",
   "execution_count": 24,
   "id": "aceaad08",
   "metadata": {},
   "outputs": [
    {
     "data": {
      "text/plain": [
       "' hello '"
      ]
     },
     "execution_count": 24,
     "metadata": {},
     "output_type": "execute_result"
    }
   ],
   "source": [
    "\"\"\" hello \"\"\""
   ]
  },
  {
   "cell_type": "code",
   "execution_count": 27,
   "id": "846b7516",
   "metadata": {},
   "outputs": [
    {
     "data": {
      "text/plain": [
       "'C:\\\\Users\\\\amitk\\\\Documents\\\\Naresh IT\\\\Python'"
      ]
     },
     "execution_count": 27,
     "metadata": {},
     "output_type": "execute_result"
    }
   ],
   "source": [
    "import os\n",
    "os.getcwd()\n",
    "# cuser in bracket\n",
    "# shift+tab"
   ]
  },
  {
   "cell_type": "code",
   "execution_count": 40,
   "id": "d170009f",
   "metadata": {},
   "outputs": [
    {
     "data": {
      "text/plain": [
       "0.6941669825227867"
      ]
     },
     "execution_count": 40,
     "metadata": {},
     "output_type": "execute_result"
    }
   ],
   "source": [
    "import random\n",
    "random.random()"
   ]
  },
  {
   "cell_type": "code",
   "execution_count": 38,
   "id": "87a4d698",
   "metadata": {},
   "outputs": [
    {
     "data": {
      "text/plain": [
       "8.0"
      ]
     },
     "execution_count": 38,
     "metadata": {},
     "output_type": "execute_result"
    }
   ],
   "source": [
    "import math \n",
    "math.pow()\n",
    "#  if we miss brackets: function"
   ]
  },
  {
   "cell_type": "markdown",
   "id": "457bcc9d",
   "metadata": {},
   "source": [
    "**Boolean**"
   ]
  },
  {
   "cell_type": "markdown",
   "id": "032d338c",
   "metadata": {},
   "source": [
    "- True == 1 == yes == On\n",
    "\n",
    "\n",
    "- False == 0 == No == off"
   ]
  },
  {
   "cell_type": "code",
   "execution_count": 42,
   "id": "8c8fe778",
   "metadata": {},
   "outputs": [
    {
     "data": {
      "text/plain": [
       "bool"
      ]
     },
     "execution_count": 42,
     "metadata": {},
     "output_type": "execute_result"
    }
   ],
   "source": [
    "n1=True\n",
    "type(n1)"
   ]
  },
  {
   "cell_type": "code",
   "execution_count": 44,
   "id": "04870826",
   "metadata": {},
   "outputs": [
    {
     "data": {
      "text/plain": [
       "10.5"
      ]
     },
     "execution_count": 44,
     "metadata": {},
     "output_type": "execute_result"
    }
   ],
   "source": [
    "true =\"True\"\n",
    "true = True\n",
    "true =10\n",
    "true =10.5\n",
    "false=true\n",
    "false"
   ]
  },
  {
   "cell_type": "code",
   "execution_count": 46,
   "id": "de89634d",
   "metadata": {},
   "outputs": [
    {
     "data": {
      "text/plain": [
       "10"
      ]
     },
     "execution_count": 46,
     "metadata": {},
     "output_type": "execute_result"
    }
   ],
   "source": [
    "true =\"True\" # string\n",
    "true = True  # bool\n",
    "true =10     # int\n",
    "# true =10.5 # float\n",
    "false=true\n",
    "false"
   ]
  },
  {
   "cell_type": "code",
   "execution_count": 47,
   "id": "bd0c2349",
   "metadata": {},
   "outputs": [
    {
     "data": {
      "text/plain": [
       "True"
      ]
     },
     "execution_count": 47,
     "metadata": {},
     "output_type": "execute_result"
    }
   ],
   "source": [
    "true =\"True\"\n",
    "true = True\n",
    "# true =10\n",
    "# true =10.5\n",
    "false=true\n",
    "false"
   ]
  },
  {
   "cell_type": "code",
   "execution_count": 48,
   "id": "270d794b",
   "metadata": {},
   "outputs": [
    {
     "data": {
      "text/plain": [
       "'True'"
      ]
     },
     "execution_count": 48,
     "metadata": {},
     "output_type": "execute_result"
    }
   ],
   "source": [
    "true =\"True\"\n",
    "# true = True\n",
    "# true =10\n",
    "# true =10.5\n",
    "false=true\n",
    "false"
   ]
  },
  {
   "cell_type": "markdown",
   "id": "8d651ad2",
   "metadata": {},
   "source": [
    "# List\n",
    "- Array of element in square bracket"
   ]
  },
  {
   "cell_type": "code",
   "execution_count": 49,
   "id": "321547c2",
   "metadata": {},
   "outputs": [
    {
     "data": {
      "text/plain": [
       "list"
      ]
     },
     "execution_count": 49,
     "metadata": {},
     "output_type": "execute_result"
    }
   ],
   "source": [
    "l=[11,22,33,44]\n",
    "type(l)"
   ]
  },
  {
   "cell_type": "code",
   "execution_count": 50,
   "id": "c6d92e72",
   "metadata": {},
   "outputs": [
    {
     "name": "stdout",
     "output_type": "stream",
     "text": [
      "['Ramesh', 'Suresh', 'Satish']\n",
      "[10, 'amit', 111.77, True]\n",
      "[11, 11, 11]\n",
      "['Apple', [10, 20, 30]]\n"
     ]
    }
   ],
   "source": [
    "l1=['Ramesh','Suresh','Satish']\n",
    "l2=[10,'amit',111.77,True]\n",
    "l3=[11,11,11]\n",
    "l4=['Apple',[10,20,30]]\n",
    "print(l1)\n",
    "print(l2)\n",
    "print(l3)\n",
    "print(l4)"
   ]
  },
  {
   "cell_type": "code",
   "execution_count": 51,
   "id": "f66446aa",
   "metadata": {},
   "outputs": [
    {
     "data": {
      "text/plain": [
       "tuple"
      ]
     },
     "execution_count": 51,
     "metadata": {},
     "output_type": "execute_result"
    }
   ],
   "source": [
    "l=(11,22,33,44)\n",
    "type(l)"
   ]
  },
  {
   "cell_type": "code",
   "execution_count": 53,
   "id": "3d6fdabe",
   "metadata": {},
   "outputs": [
    {
     "name": "stdout",
     "output_type": "stream",
     "text": [
      "('Ramesh', 'Suresh', 'Satish')\n",
      "(10, 'amit', 111.77, True)\n",
      "(11, 11, 11)\n",
      "('Apple', [10, 20, 30])\n"
     ]
    }
   ],
   "source": [
    "t1=( 'Ramesh','Suresh','Satish')\n",
    "t2=(10,'amit',111.77,True)\n",
    "t3=(11,11,11)\n",
    "t4=( 'Apple',[10,20,30])\n",
    "print(t1)\n",
    "print(t2)\n",
    "print(t3)\n",
    "print(t4)"
   ]
  },
  {
   "cell_type": "markdown",
   "id": "c5c10804",
   "metadata": {},
   "source": [
    "## dictionary"
   ]
  },
  {
   "cell_type": "code",
   "execution_count": 54,
   "id": "ea8c49c3",
   "metadata": {},
   "outputs": [
    {
     "ename": "SyntaxError",
     "evalue": "only single target (not list) can be annotated (361691204.py, line 1)",
     "output_type": "error",
     "traceback": [
      "\u001b[1;36m  File \u001b[1;32m\"C:\\Users\\amitk\\AppData\\Local\\Temp\\ipykernel_9732\\361691204.py\"\u001b[1;36m, line \u001b[1;32m1\u001b[0m\n\u001b[1;33m    [] : list\u001b[0m\n\u001b[1;37m    ^\u001b[0m\n\u001b[1;31mSyntaxError\u001b[0m\u001b[1;31m:\u001b[0m only single target (not list) can be annotated\n"
     ]
    }
   ],
   "source": [
    "[] : list\n",
    "() : tuple\n",
    "{} : set"
   ]
  },
  {
   "cell_type": "code",
   "execution_count": 55,
   "id": "8a8db615",
   "metadata": {},
   "outputs": [
    {
     "data": {
      "text/plain": [
       "set"
      ]
     },
     "execution_count": 55,
     "metadata": {},
     "output_type": "execute_result"
    }
   ],
   "source": [
    "n1={45,87,9}\n",
    "type(n1)"
   ]
  },
  {
   "cell_type": "markdown",
   "id": "cee8c6d5",
   "metadata": {},
   "source": [
    "- Its a pair\n",
    "\n",
    "- key and value pair\n",
    "\n",
    "- seprated by :"
   ]
  },
  {
   "cell_type": "code",
   "execution_count": 56,
   "id": "dcb5557e",
   "metadata": {},
   "outputs": [],
   "source": [
    "d1={'wife':'husband'} # dictionary\n",
    "s1={'wife','husband'} # set\n",
    "d2={'key':'value'}"
   ]
  },
  {
   "cell_type": "code",
   "execution_count": null,
   "id": "227e0f23",
   "metadata": {},
   "outputs": [],
   "source": [
    "< >"
   ]
  }
 ],
 "metadata": {
  "kernelspec": {
   "display_name": "Python 3 (ipykernel)",
   "language": "python",
   "name": "python3"
  },
  "language_info": {
   "codemirror_mode": {
    "name": "ipython",
    "version": 3
   },
   "file_extension": ".py",
   "mimetype": "text/x-python",
   "name": "python",
   "nbconvert_exporter": "python",
   "pygments_lexer": "ipython3",
   "version": "3.9.13"
  }
 },
 "nbformat": 4,
 "nbformat_minor": 5
}
