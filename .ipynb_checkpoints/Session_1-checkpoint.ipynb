{
 "cells": [
  {
   "cell_type": "code",
   "execution_count": 1,
   "id": "99670492",
   "metadata": {},
   "outputs": [
    {
     "name": "stdout",
     "output_type": "stream",
     "text": [
      "14\n"
     ]
    }
   ],
   "source": [
    "a=5\n",
    "b=9\n",
    "c=a+b\n",
    "print(c)"
   ]
  },
  {
   "cell_type": "markdown",
   "id": "381d9f34",
   "metadata": {},
   "source": [
    "djsfnds,j"
   ]
  },
  {
   "cell_type": "markdown",
   "id": "2b9e2f3b",
   "metadata": {},
   "source": [
    "this is python full stack data science & AI"
   ]
  },
  {
   "cell_type": "markdown",
   "id": "b5f3a847",
   "metadata": {},
   "source": [
    "sharuk khan "
   ]
  },
  {
   "cell_type": "markdown",
   "id": "90d93f0c",
   "metadata": {},
   "source": [
    "#  python "
   ]
  },
  {
   "cell_type": "markdown",
   "id": "61406d04",
   "metadata": {},
   "source": [
    "## python"
   ]
  },
  {
   "cell_type": "markdown",
   "id": "8bd81887",
   "metadata": {},
   "source": [
    "### python"
   ]
  },
  {
   "cell_type": "markdown",
   "id": "d678a6d0",
   "metadata": {},
   "source": [
    "### gghjj"
   ]
  },
  {
   "cell_type": "markdown",
   "id": "1bc47648",
   "metadata": {},
   "source": [
    "- Today I am learning \n",
    "\n",
    "\n",
    "- python is good\n",
    "\n",
    "\n",
    "- python is easy\n",
    "\n",
    "\n",
    "- python is execllent"
   ]
  },
  {
   "cell_type": "code",
   "execution_count": null,
   "id": "c6113986",
   "metadata": {},
   "outputs": [],
   "source": [
    "a=10\n",
    "b=30\n",
    "c=a+b\n",
    "c \n",
    "\n",
    "# esc+y    markdown to code mode\n",
    "# esc+m    code to markdown mode"
   ]
  },
  {
   "cell_type": "markdown",
   "id": "f3a06fe3",
   "metadata": {},
   "source": [
    "# Variable"
   ]
  },
  {
   "cell_type": "markdown",
   "id": "89a90cbb",
   "metadata": {},
   "source": [
    "- store the value\n",
    "\n",
    "\n",
    "- change the value"
   ]
  },
  {
   "cell_type": "code",
   "execution_count": 4,
   "id": "5db78cdf",
   "metadata": {},
   "outputs": [],
   "source": [
    "number =100\n"
   ]
  },
  {
   "cell_type": "code",
   "execution_count": 5,
   "id": "3d7e129c",
   "metadata": {},
   "outputs": [
    {
     "name": "stdout",
     "output_type": "stream",
     "text": [
      "100\n"
     ]
    }
   ],
   "source": [
    "print(number)"
   ]
  },
  {
   "cell_type": "code",
   "execution_count": 7,
   "id": "d95f401f",
   "metadata": {},
   "outputs": [
    {
     "data": {
      "text/plain": [
       "200"
      ]
     },
     "execution_count": 7,
     "metadata": {},
     "output_type": "execute_result"
    }
   ],
   "source": [
    "number=200\n",
    "number"
   ]
  },
  {
   "cell_type": "code",
   "execution_count": 8,
   "id": "d42417b0",
   "metadata": {},
   "outputs": [
    {
     "name": "stdout",
     "output_type": "stream",
     "text": [
      "200\n"
     ]
    }
   ],
   "source": [
    "number=200\n",
    "print(number)"
   ]
  },
  {
   "cell_type": "code",
   "execution_count": 9,
   "id": "bc515eba",
   "metadata": {},
   "outputs": [
    {
     "data": {
      "text/plain": [
       "300"
      ]
     },
     "execution_count": 9,
     "metadata": {},
     "output_type": "execute_result"
    }
   ],
   "source": [
    "number1=200\n",
    "number2=300\n",
    "number1\n",
    "number2"
   ]
  },
  {
   "cell_type": "code",
   "execution_count": 10,
   "id": "e5dd09a4",
   "metadata": {},
   "outputs": [
    {
     "name": "stdout",
     "output_type": "stream",
     "text": [
      "200\n",
      "300\n"
     ]
    }
   ],
   "source": [
    "number1=200\n",
    "number2=300\n",
    "print(number1)\n",
    "print(number2)"
   ]
  },
  {
   "cell_type": "code",
   "execution_count": 12,
   "id": "33c6476c",
   "metadata": {},
   "outputs": [],
   "source": [
    "NUMBER=33"
   ]
  },
  {
   "cell_type": "code",
   "execution_count": 13,
   "id": "34f4898f",
   "metadata": {},
   "outputs": [
    {
     "data": {
      "text/plain": [
       "33"
      ]
     },
     "execution_count": 13,
     "metadata": {},
     "output_type": "execute_result"
    }
   ],
   "source": [
    "NUMBER"
   ]
  },
  {
   "cell_type": "code",
   "execution_count": 14,
   "id": "767bc5b1",
   "metadata": {},
   "outputs": [
    {
     "data": {
      "text/plain": [
       "400"
      ]
     },
     "execution_count": 14,
     "metadata": {},
     "output_type": "execute_result"
    }
   ],
   "source": [
    "number123=400\n",
    "number123"
   ]
  },
  {
   "cell_type": "code",
   "execution_count": 15,
   "id": "bd4d52d5",
   "metadata": {},
   "outputs": [
    {
     "ename": "SyntaxError",
     "evalue": "invalid syntax (207158725.py, line 1)",
     "output_type": "error",
     "traceback": [
      "\u001b[1;36m  File \u001b[1;32m\"C:\\Users\\amitk\\AppData\\Local\\Temp\\ipykernel_8408\\207158725.py\"\u001b[1;36m, line \u001b[1;32m1\u001b[0m\n\u001b[1;33m    123number=500\u001b[0m\n\u001b[1;37m       ^\u001b[0m\n\u001b[1;31mSyntaxError\u001b[0m\u001b[1;31m:\u001b[0m invalid syntax\n"
     ]
    }
   ],
   "source": [
    "123number=500\n"
   ]
  },
  {
   "cell_type": "code",
   "execution_count": 18,
   "id": "e2c5b64a",
   "metadata": {},
   "outputs": [
    {
     "ename": "SyntaxError",
     "evalue": "invalid syntax (2669145390.py, line 1)",
     "output_type": "error",
     "traceback": [
      "\u001b[1;36m  File \u001b[1;32m\"C:\\Users\\amitk\\AppData\\Local\\Temp\\ipykernel_8408\\2669145390.py\"\u001b[1;36m, line \u001b[1;32m1\u001b[0m\n\u001b[1;33m    number@  = 600\u001b[0m\n\u001b[1;37m             ^\u001b[0m\n\u001b[1;31mSyntaxError\u001b[0m\u001b[1;31m:\u001b[0m invalid syntax\n"
     ]
    }
   ],
   "source": [
    "number@  = 600\n",
    "nunber"
   ]
  },
  {
   "cell_type": "code",
   "execution_count": null,
   "id": "6bd0d7ce",
   "metadata": {},
   "outputs": [],
   "source": [
    "# number       : work\n",
    "# number123    : work\n",
    "# number_one   : work\n",
    "# NUMBER       : work\n",
    "# _            : work\n",
    " \n",
    "\n",
    "# 123number    : fail\n",
    "# number@      : fail\n",
    "# number one   : fail\n",
    "# if           : fail"
   ]
  },
  {
   "cell_type": "code",
   "execution_count": 19,
   "id": "bad39488",
   "metadata": {},
   "outputs": [
    {
     "ename": "SyntaxError",
     "evalue": "cannot assign to operator (3635620684.py, line 1)",
     "output_type": "error",
     "traceback": [
      "\u001b[1;36m  File \u001b[1;32m\"C:\\Users\\amitk\\AppData\\Local\\Temp\\ipykernel_8408\\3635620684.py\"\u001b[1;36m, line \u001b[1;32m1\u001b[0m\n\u001b[1;33m    jms+efe=29\u001b[0m\n\u001b[1;37m    ^\u001b[0m\n\u001b[1;31mSyntaxError\u001b[0m\u001b[1;31m:\u001b[0m cannot assign to operator\n"
     ]
    }
   ],
   "source": [
    "jms+efe=29"
   ]
  },
  {
   "cell_type": "code",
   "execution_count": 20,
   "id": "abb79fab",
   "metadata": {},
   "outputs": [],
   "source": [
    "_=4"
   ]
  },
  {
   "cell_type": "code",
   "execution_count": 22,
   "id": "75d068b6",
   "metadata": {},
   "outputs": [],
   "source": [
    "print=200"
   ]
  },
  {
   "cell_type": "code",
   "execution_count": 23,
   "id": "2f818914",
   "metadata": {},
   "outputs": [
    {
     "data": {
      "text/plain": [
       "200"
      ]
     },
     "execution_count": 23,
     "metadata": {},
     "output_type": "execute_result"
    }
   ],
   "source": [
    "print"
   ]
  },
  {
   "cell_type": "markdown",
   "id": "866ae0ea",
   "metadata": {},
   "source": [
    "- variable are case sensitive\n",
    "\n",
    "    -  number and NUMBER\n",
    "\n",
    "- variable can be capital and small letters\n",
    "\n",
    "    - \n",
    "\n",
    "- number as starting does not allow as variable\n",
    "\n",
    "    - 123number\n",
    "\n",
    "- variable does not include spl characters\n",
    "\n",
    "    - number@\n",
    "\n",
    "- keyword and reserved not allow\n",
    "\n",
    "    - eg: if else and or\n"
   ]
  },
  {
   "cell_type": "code",
   "execution_count": 1,
   "id": "b9806dde",
   "metadata": {},
   "outputs": [
    {
     "name": "stdout",
     "output_type": "stream",
     "text": [
      "100\n"
     ]
    }
   ],
   "source": [
    "num=100\n",
    "print(num)"
   ]
  },
  {
   "cell_type": "code",
   "execution_count": 3,
   "id": "ea809ea1",
   "metadata": {},
   "outputs": [
    {
     "data": {
      "text/plain": [
       "int"
      ]
     },
     "execution_count": 3,
     "metadata": {},
     "output_type": "execute_result"
    }
   ],
   "source": [
    "type(num)"
   ]
  },
  {
   "cell_type": "code",
   "execution_count": 4,
   "id": "75e8c087",
   "metadata": {},
   "outputs": [
    {
     "data": {
      "text/plain": [
       "100"
      ]
     },
     "execution_count": 4,
     "metadata": {},
     "output_type": "execute_result"
    }
   ],
   "source": [
    "sum=100\n",
    "sum"
   ]
  },
  {
   "cell_type": "code",
   "execution_count": 1,
   "id": "95a76998",
   "metadata": {},
   "outputs": [
    {
     "data": {
      "text/plain": [
       "103"
      ]
     },
     "execution_count": 1,
     "metadata": {},
     "output_type": "execute_result"
    }
   ],
   "source": [
    "sum([13,45,45])"
   ]
  },
  {
   "cell_type": "markdown",
   "id": "7ef5e150",
   "metadata": {},
   "source": [
    "# ** variable should black color"
   ]
  },
  {
   "cell_type": "code",
   "execution_count": 3,
   "id": "ff5e513b",
   "metadata": {},
   "outputs": [],
   "source": [
    "Sum=200 # correct way\n",
    "sum=334  # worng way"
   ]
  },
  {
   "cell_type": "code",
   "execution_count": 4,
   "id": "39f8ff0b",
   "metadata": {},
   "outputs": [],
   "source": [
    "max=234 # worng way it will work\n",
    "Max =444 # correct way"
   ]
  },
  {
   "cell_type": "code",
   "execution_count": 1,
   "id": "e7f4ea3d",
   "metadata": {},
   "outputs": [
    {
     "data": {
      "text/plain": [
       "555"
      ]
     },
     "execution_count": 1,
     "metadata": {},
     "output_type": "execute_result"
    }
   ],
   "source": [
    "max([443,555])"
   ]
  },
  {
   "cell_type": "code",
   "execution_count": 4,
   "id": "7d5b294a",
   "metadata": {},
   "outputs": [
    {
     "ename": "TypeError",
     "evalue": "'int' object is not callable",
     "output_type": "error",
     "traceback": [
      "\u001b[1;31m----------------------------------------------------------------\u001b[0m",
      "\u001b[1;31mTypeError\u001b[0m                      Traceback (most recent call last)",
      "\u001b[1;32m~\\AppData\\Local\\Temp\\ipykernel_40236\\590673333.py\u001b[0m in \u001b[0;36m<module>\u001b[1;34m\u001b[0m\n\u001b[1;32m----> 1\u001b[1;33m \u001b[0mmin\u001b[0m\u001b[1;33m(\u001b[0m\u001b[1;33m[\u001b[0m\u001b[1;36m34\u001b[0m\u001b[1;33m,\u001b[0m\u001b[1;36m55\u001b[0m\u001b[1;33m]\u001b[0m\u001b[1;33m)\u001b[0m\u001b[1;33m\u001b[0m\u001b[1;33m\u001b[0m\u001b[0m\n\u001b[0m",
      "\u001b[1;31mTypeError\u001b[0m: 'int' object is not callable"
     ]
    }
   ],
   "source": [
    "min([34,55])"
   ]
  },
  {
   "cell_type": "code",
   "execution_count": 3,
   "id": "4cfb8f6b",
   "metadata": {},
   "outputs": [],
   "source": [
    "min=33  # it will work but worng\n",
    "Min=34"
   ]
  },
  {
   "cell_type": "code",
   "execution_count": null,
   "id": "1d52b860",
   "metadata": {},
   "outputs": [],
   "source": [
    "Sure could you let me know what you'd like help with in python\n",
    "are you working on a specific project script or concept"
   ]
  }
 ],
 "metadata": {
  "kernelspec": {
   "display_name": "Python 3 (ipykernel)",
   "language": "python",
   "name": "python3"
  },
  "language_info": {
   "codemirror_mode": {
    "name": "ipython",
    "version": 3
   },
   "file_extension": ".py",
   "mimetype": "text/x-python",
   "name": "python",
   "nbconvert_exporter": "python",
   "pygments_lexer": "ipython3",
   "version": "3.9.13"
  }
 },
 "nbformat": 4,
 "nbformat_minor": 5
}
