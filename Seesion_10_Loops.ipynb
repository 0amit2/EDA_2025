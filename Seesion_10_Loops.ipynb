{
 "cells": [
  {
   "cell_type": "markdown",
   "id": "c367d17b",
   "metadata": {},
   "source": [
    "# Loops"
   ]
  },
  {
   "cell_type": "code",
   "execution_count": 1,
   "id": "0ba63844",
   "metadata": {},
   "outputs": [
    {
     "name": "stdout",
     "output_type": "stream",
     "text": [
      "0\n",
      "1\n",
      "2\n",
      "3\n",
      "4\n"
     ]
    }
   ],
   "source": [
    "for i in range(5):\n",
    "    print(i)"
   ]
  },
  {
   "cell_type": "code",
   "execution_count": 2,
   "id": "d12bfb47",
   "metadata": {},
   "outputs": [
    {
     "name": "stdout",
     "output_type": "stream",
     "text": [
      "Amit\n",
      "Amit\n",
      "Amit\n",
      "Amit\n",
      "Amit\n"
     ]
    }
   ],
   "source": [
    "for i in range(5):\n",
    "    print(\"Amit\")"
   ]
  },
  {
   "cell_type": "code",
   "execution_count": 3,
   "id": "8296ee64",
   "metadata": {},
   "outputs": [
    {
     "name": "stdout",
     "output_type": "stream",
     "text": [
      "1\n",
      "2\n",
      "3\n",
      "4\n"
     ]
    }
   ],
   "source": [
    "for i in range(1,5):\n",
    "    print(i)"
   ]
  },
  {
   "cell_type": "code",
   "execution_count": 4,
   "id": "94cdfdee",
   "metadata": {},
   "outputs": [
    {
     "name": "stdout",
     "output_type": "stream",
     "text": [
      "0\n",
      "1\n",
      "4\n",
      "9\n",
      "16\n"
     ]
    }
   ],
   "source": [
    "for i in range(5):\n",
    "    print(i*i)"
   ]
  },
  {
   "cell_type": "code",
   "execution_count": 8,
   "id": "049d50be",
   "metadata": {},
   "outputs": [
    {
     "name": "stdout",
     "output_type": "stream",
     "text": [
      "1\n",
      "4\n",
      "9\n",
      "16\n",
      "25\n",
      "36\n",
      "49\n",
      "64\n",
      "81\n",
      "100\n"
     ]
    }
   ],
   "source": [
    "for i in range(1,11):\n",
    "    print(i*i)"
   ]
  },
  {
   "cell_type": "code",
   "execution_count": 11,
   "id": "79cfb809",
   "metadata": {},
   "outputs": [
    {
     "name": "stdout",
     "output_type": "stream",
     "text": [
      "Amit \n",
      "Amit Amit \n",
      "Amit Amit Amit \n",
      "Amit Amit Amit Amit \n",
      "Amit Amit Amit Amit Amit \n",
      "Amit Amit Amit Amit Amit Amit \n",
      "Amit Amit Amit Amit Amit Amit Amit \n",
      "Amit Amit Amit Amit Amit Amit Amit Amit \n",
      "Amit Amit Amit Amit Amit Amit Amit Amit Amit \n",
      "Amit Amit Amit Amit Amit Amit Amit Amit Amit Amit \n"
     ]
    }
   ],
   "source": [
    "for i in range(1,11):\n",
    "    print(i*\"Amit \")"
   ]
  },
  {
   "cell_type": "code",
   "execution_count": 15,
   "id": "650946d1",
   "metadata": {},
   "outputs": [
    {
     "name": "stdout",
     "output_type": "stream",
     "text": [
      "*\n",
      "**\n",
      "***\n",
      "****\n",
      "*****\n"
     ]
    }
   ],
   "source": [
    "for i in range(1,6):\n",
    "    print(i*\"*\")"
   ]
  },
  {
   "cell_type": "code",
   "execution_count": 17,
   "id": "67ec7fc0",
   "metadata": {},
   "outputs": [
    {
     "name": "stdout",
     "output_type": "stream",
     "text": [
      "*****\n",
      "****\n",
      "***\n",
      "**\n",
      "*\n"
     ]
    }
   ],
   "source": [
    "for i in range(5,0,-1):\n",
    "    print(i*\"*\")"
   ]
  },
  {
   "cell_type": "markdown",
   "id": "07920589",
   "metadata": {},
   "source": [
    "# For Loop"
   ]
  },
  {
   "cell_type": "code",
   "execution_count": 20,
   "id": "fd8730df",
   "metadata": {},
   "outputs": [
    {
     "name": "stdout",
     "output_type": "stream",
     "text": [
      "hello\n"
     ]
    }
   ],
   "source": [
    "print(\"hello\")"
   ]
  },
  {
   "cell_type": "code",
   "execution_count": 25,
   "id": "57a4062b",
   "metadata": {},
   "outputs": [
    {
     "data": {
      "text/plain": [
       "'yyyyy+yyyyyyya'"
      ]
     },
     "execution_count": 25,
     "metadata": {},
     "output_type": "execute_result"
    }
   ],
   "source": [
    "\"yyyyy+yyyyyyy\"+\"a\""
   ]
  },
  {
   "cell_type": "code",
   "execution_count": 26,
   "id": "35755c43",
   "metadata": {},
   "outputs": [
    {
     "name": "stdout",
     "output_type": "stream",
     "text": [
      "Hello\n",
      "Hello\n",
      "Hello\n"
     ]
    }
   ],
   "source": [
    "for i in range(3):\n",
    "    print(\"Hello\")"
   ]
  },
  {
   "cell_type": "code",
   "execution_count": 29,
   "id": "19b634b4",
   "metadata": {},
   "outputs": [
    {
     "name": "stdout",
     "output_type": "stream",
     "text": [
      "enter a number:8\n",
      "the square of 8 is :64\n",
      "enter a number:9\n",
      "the square of 9 is :81\n",
      "enter a number:4\n",
      "the square of 4 is :16\n"
     ]
    }
   ],
   "source": [
    "\n",
    "for i in range(3):\n",
    "    n=eval(input(\"enter a number:\"))\n",
    "    print(f\"the square of {n} is :{n*n}\")"
   ]
  },
  {
   "cell_type": "code",
   "execution_count": 30,
   "id": "aca7a4f8",
   "metadata": {},
   "outputs": [
    {
     "name": "stdout",
     "output_type": "stream",
     "text": [
      "7x0=0\n",
      "7x1=7\n",
      "7x2=14\n",
      "7x3=21\n",
      "7x4=28\n",
      "7x5=35\n",
      "7x6=42\n",
      "7x7=49\n",
      "7x8=56\n",
      "7x9=63\n",
      "7x10=70\n"
     ]
    }
   ],
   "source": [
    "# Q2\n",
    "\n",
    "for i in range(11):\n",
    "    print(f\"7x{i}={7*i}\")"
   ]
  },
  {
   "cell_type": "code",
   "execution_count": 31,
   "id": "536821b4",
   "metadata": {},
   "outputs": [
    {
     "name": "stdout",
     "output_type": "stream",
     "text": [
      "7x1=7\n",
      "7x2=14\n",
      "7x3=21\n",
      "7x4=28\n",
      "7x5=35\n",
      "7x6=42\n",
      "7x7=49\n",
      "7x8=56\n",
      "7x9=63\n",
      "7x10=70\n"
     ]
    }
   ],
   "source": [
    "for i in range(1,11):\n",
    "    print(f\"7x{i}={7*i}\")"
   ]
  },
  {
   "cell_type": "code",
   "execution_count": 35,
   "id": "bcfed4dd",
   "metadata": {},
   "outputs": [
    {
     "name": "stdout",
     "output_type": "stream",
     "text": [
      "hello--->hai****hay\n"
     ]
    }
   ],
   "source": [
    "print('hello',end=\"--->\")\n",
    "print(\"hai\",end=\"****\")\n",
    "print(\"hay\")"
   ]
  },
  {
   "cell_type": "code",
   "execution_count": 39,
   "id": "35807b45",
   "metadata": {},
   "outputs": [
    {
     "name": "stdout",
     "output_type": "stream",
     "text": [
      "10 11 12 13 14 15 16 17 18 19 "
     ]
    }
   ],
   "source": [
    "for i in range(10,20):\n",
    "    print(i,end=\" \")"
   ]
  },
  {
   "cell_type": "code",
   "execution_count": 42,
   "id": "6d5172b7",
   "metadata": {},
   "outputs": [
    {
     "name": "stdout",
     "output_type": "stream",
     "text": [
      "10 -> 11 -> 12 -> 13 -> 14 -> 15 -> 16 -> 17 -> 18 -> 19 -> "
     ]
    }
   ],
   "source": [
    "for i in range(10,20):\n",
    "    print(i,end=\" -> \")"
   ]
  },
  {
   "cell_type": "code",
   "execution_count": 43,
   "id": "2efd51a4",
   "metadata": {},
   "outputs": [
    {
     "name": "stdout",
     "output_type": "stream",
     "text": [
      "enter a number:6\n",
      "the square of 6 is :36\n",
      "enter a number:9\n",
      "the square of 9 is :81\n",
      "enter a number:8\n",
      "the square of 8 is :64\n"
     ]
    }
   ],
   "source": [
    "\n",
    "for i in range(1,4):\n",
    "    n=eval(input(\"enter a number:\"))\n",
    "    print(f\"the square of {n} is :{n*n}\")"
   ]
  },
  {
   "cell_type": "code",
   "execution_count": 48,
   "id": "9e8f55ca",
   "metadata": {},
   "outputs": [
    {
     "name": "stdout",
     "output_type": "stream",
     "text": [
      "enter a number:6\n",
      "Even\n",
      "enter a number:8\n",
      "Even\n",
      "enter a number:7\n",
      "Odd\n",
      "enter a number:8\n",
      "Even\n",
      "enter a number:9\n",
      "Odd\n",
      "enter a number:7\n",
      "Odd\n",
      "enter a number:5\n",
      "Odd\n",
      "enter a number:4\n",
      "Even\n",
      "enter a number:3\n",
      "Odd\n",
      "enter a number:3\n",
      "Odd\n"
     ]
    }
   ],
   "source": [
    "# Q3\n",
    "for i in range(5):\n",
    "    n=eval(input(\"enter a number:\"))\n",
    "    if n%2==0:\n",
    "        print(\"Even\")\n",
    "    else:\n",
    "        print(\"Odd\")\n",
    "\n",
    "for i in range(1,6):\n",
    "    n=eval(input(\"enter a number:\"))\n",
    "    if n%2==0:\n",
    "        print(\"Even\")\n",
    "    else:\n",
    "        print(\"Odd\")"
   ]
  },
  {
   "cell_type": "code",
   "execution_count": 47,
   "id": "557b36d3",
   "metadata": {},
   "outputs": [
    {
     "name": "stdout",
     "output_type": "stream",
     "text": [
      "Odd\n",
      "Even\n",
      "Odd\n",
      "Even\n",
      "Odd\n",
      "Even\n",
      "Even\n",
      "Odd\n",
      "Odd\n",
      "Even\n"
     ]
    }
   ],
   "source": [
    "import random\n",
    "for i in range(5):\n",
    "    n=random.randint(1,100)\n",
    "    if n%2==0:\n",
    "        print(\"Even\")\n",
    "    else:\n",
    "        print(\"Odd\")\n",
    "\n",
    "for i in range(1,6):\n",
    "    n=random.randint(1,100)\n",
    "    if n%2==0:\n",
    "        print(\"Even\")\n",
    "    else:\n",
    "        print(\"Odd\")"
   ]
  },
  {
   "cell_type": "code",
   "execution_count": 50,
   "id": "da38b29a",
   "metadata": {},
   "outputs": [
    {
     "name": "stdout",
     "output_type": "stream",
     "text": [
      "enter a number:7\n",
      "Odd\n",
      "enter a number:8\n",
      "Even\n",
      "enter a number:3\n",
      "Odd\n",
      "enter a number:7\n",
      "Odd\n",
      "enter a number:9\n",
      "Odd\n"
     ]
    }
   ],
   "source": [
    "def fun(n):    \n",
    "    if n%2==0:\n",
    "        print(\"Even\")\n",
    "    else:\n",
    "        print(\"Odd\")\n",
    "\n",
    "for i in range(5):\n",
    "    n=eval(input(\"enter a number:\"))\n",
    "    fun(n)"
   ]
  },
  {
   "cell_type": "code",
   "execution_count": 52,
   "id": "5bfec0ad",
   "metadata": {},
   "outputs": [
    {
     "name": "stdout",
     "output_type": "stream",
     "text": [
      "1\n",
      "6\n",
      "11\n",
      "16\n",
      "21\n",
      "26\n",
      "31\n",
      "36\n",
      "41\n",
      "46\n",
      "51\n",
      "56\n",
      "61\n",
      "66\n",
      "71\n",
      "76\n",
      "81\n",
      "86\n",
      "91\n",
      "96\n"
     ]
    }
   ],
   "source": [
    " for i in range(1,100,5):\n",
    "        print(i)"
   ]
  },
  {
   "cell_type": "code",
   "execution_count": 53,
   "id": "4169701d",
   "metadata": {},
   "outputs": [
    {
     "name": "stdout",
     "output_type": "stream",
     "text": [
      "1 6 11 16 21 26 31 36 41 46 51 56 61 66 71 76 81 86 91 96 "
     ]
    }
   ],
   "source": [
    " for i in range(1,100,5):\n",
    "        print(i,end=\" \")"
   ]
  },
  {
   "cell_type": "code",
   "execution_count": 57,
   "id": "04d417e5",
   "metadata": {},
   "outputs": [
    {
     "data": {
      "text/plain": [
       "'czcxxcxczczcccccccccccccaaaaa'"
      ]
     },
     "execution_count": 57,
     "metadata": {},
     "output_type": "execute_result"
    }
   ],
   "source": [
    "x=\"cxxzczcxxcxczczcccccccccccccaaaaaaaaaaaa\"\n",
    "x[4:33]\n",
    "# len(x)"
   ]
  },
  {
   "cell_type": "code",
   "execution_count": 59,
   "id": "6d83ceb4",
   "metadata": {},
   "outputs": [
    {
     "name": "stdout",
     "output_type": "stream",
     "text": [
      "100 95 90 85 80 75 70 65 60 55 50 45 40 35 30 25 20 15 10 5 "
     ]
    }
   ],
   "source": [
    "for i in range(100,0,-5):\n",
    "    \n",
    "    print(i,end=\" \")"
   ]
  },
  {
   "cell_type": "code",
   "execution_count": 60,
   "id": "047422e2",
   "metadata": {},
   "outputs": [
    {
     "name": "stdout",
     "output_type": "stream",
     "text": [
      "c x x z c z c x x c x c z c z c c c c c c c c c c c c c a a a a a a a a a a a a "
     ]
    }
   ],
   "source": [
    "for i in x:\n",
    "    print(i,end=\" \")"
   ]
  },
  {
   "cell_type": "code",
   "execution_count": 62,
   "id": "bd77c1aa",
   "metadata": {},
   "outputs": [],
   "source": [
    " for i in range(1,100,-5):\n",
    "        print(i,end=\" \")"
   ]
  },
  {
   "cell_type": "code",
   "execution_count": 69,
   "id": "a6d47e67",
   "metadata": {},
   "outputs": [
    {
     "name": "stdout",
     "output_type": "stream",
     "text": [
      "1|.-(*)-.|6|.-(*)-.|11|.-(*)-.|16|.-(*)-.|21|.-(*)-.|26|.-(*)-.|31|.-(*)-.|36|.-(*)-.|41|.-(*)-.|46|.-(*)-.|51|.-(*)-.|56|.-(*)-.|61|.-(*)-.|66|.-(*)-.|71|.-(*)-.|76|.-(*)-.|81|.-(*)-.|86|.-(*)-.|91|.-(*)-.|96|.-(*)-.|"
     ]
    }
   ],
   "source": [
    " for i in range(1,100,5):\n",
    "        print(i,end=\"|.-(*)-.|\")"
   ]
  },
  {
   "cell_type": "code",
   "execution_count": 77,
   "id": "a6ab6db4",
   "metadata": {},
   "outputs": [
    {
     "name": "stdout",
     "output_type": "stream",
     "text": [
      "1 [*0*]-> 6 [*0*]-> 11 [*0*]-> 16 [*0*]-> 21 [*0*]-> 26 [*0*]-> 31 [*0*]-> 36 [*0*]-> 41 [*0*]-> 46 [*0*]-> 51 [*0*]-> 56 [*0*]-> 61 [*0*]-> 66 [*0*]-> 71 [*0*]-> 76 [*0*]-> 81 [*0*]-> 86 [*0*]-> 91 [*0*]-> 96 [*0*]-> "
     ]
    }
   ],
   "source": [
    " for i in range(1,100,5):\n",
    "        print(i,end=\" [*0*]-> \")"
   ]
  },
  {
   "cell_type": "code",
   "execution_count": 80,
   "id": "12fea197",
   "metadata": {},
   "outputs": [
    {
     "name": "stdout",
     "output_type": "stream",
     "text": [
      "1 |Bullshit| 6 |Bullshit| 11 |Bullshit| 16 |Bullshit| 21 |Bullshit| 26 |Bullshit| 31 |Bullshit| 36 |Bullshit| 41 |Bullshit| 46 |Bullshit| 51 |Bullshit| 56 |Bullshit| 61 |Bullshit| 66 |Bullshit| 71 |Bullshit| 76 |Bullshit| 81 |Bullshit| 86 |Bullshit| 91 |Bullshit| 96 |Bullshit| "
     ]
    }
   ],
   "source": [
    " for i in range(1,100,5):\n",
    "        print(i,end=\" |Bullshit| \")"
   ]
  },
  {
   "cell_type": "code",
   "execution_count": 83,
   "id": "feee11db",
   "metadata": {},
   "outputs": [
    {
     "name": "stdout",
     "output_type": "stream",
     "text": [
      "1 ~.~ 6 ~.~ 11 ~.~ 16 ~.~ 21 ~.~ 26 ~.~ 31 ~.~ 36 ~.~ 41 ~.~ 46 ~.~ 51 ~.~ 56 ~.~ 61 ~.~ 66 ~.~ 71 ~.~ 76 ~.~ 81 ~.~ 86 ~.~ 91 ~.~ 96 ~.~ "
     ]
    }
   ],
   "source": [
    " for i in range(1,100,5):\n",
    "        print(i,end=\" ~.~ \")"
   ]
  },
  {
   "cell_type": "code",
   "execution_count": 87,
   "id": "76bb55e0",
   "metadata": {},
   "outputs": [
    {
     "name": "stdout",
     "output_type": "stream",
     "text": [
      " (.^.) (.^.) (.^.) (.^.) (.^.) (.^.) (.^.) (.^.) (.^.) (.^.) (.^.) (.^.) (.^.) (.^.) (.^.) (.^.) (.^.) (.^.) (.^.) (.^.)"
     ]
    }
   ],
   "source": [
    " for i in range(1,100,5):\n",
    "        print(\" \",end=\"(.^.)\")"
   ]
  },
  {
   "cell_type": "code",
   "execution_count": 89,
   "id": "9b70099e",
   "metadata": {},
   "outputs": [
    {
     "name": "stdout",
     "output_type": "stream",
     "text": [
      "(..`~^~`..)(..`~^~`..)(..`~^~`..)(..`~^~`..)(..`~^~`..)(..`~^~`..)(..`~^~`..)(..`~^~`..)(..`~^~`..)(..`~^~`..)(..`~^~`..)(..`~^~`..)(..`~^~`..)(..`~^~`..)(..`~^~`..)(..`~^~`..)(..`~^~`..)(..`~^~`..)(..`~^~`..)(..`~^~`..)"
     ]
    }
   ],
   "source": [
    " for i in range(1,100,5):\n",
    "        print(end=\"(..`~^~`..)\")"
   ]
  },
  {
   "cell_type": "code",
   "execution_count": 95,
   "id": "1d88da75",
   "metadata": {},
   "outputs": [
    {
     "name": "stdout",
     "output_type": "stream",
     "text": [
      "---------\t------\n",
      "-----------\n",
      "--------------\t------\n",
      "-----------\n",
      "--------------\t------\n",
      "-----------\n",
      "--------------\t------\n",
      "-----------\n",
      "--------------\t------\n",
      "-----------\n",
      "--------------\t------\n",
      "-----------\n",
      "--------------\t------\n",
      "-----------\n",
      "--------------\t------\n",
      "-----------\n",
      "--------------\t------\n",
      "-----------\n",
      "--------------\t------\n",
      "-----------\n",
      "--------------\t------\n",
      "-----------\n",
      "--------------\t------\n",
      "-----------\n",
      "--------------\t------\n",
      "-----------\n",
      "--------------\t------\n",
      "-----------\n",
      "--------------\t------\n",
      "-----------\n",
      "--------------\t------\n",
      "-----------\n",
      "--------------\t------\n",
      "-----------\n",
      "--------------\t------\n",
      "-----------\n",
      "--------------\t------\n",
      "-----------\n",
      "--------------\t------\n",
      "-----------\n",
      "-----"
     ]
    }
   ],
   "source": [
    " for i in range(1,100,5):\n",
    "        print(end=\"---------\\t------\\n-----------\\n-----\")"
   ]
  },
  {
   "cell_type": "code",
   "execution_count": 96,
   "id": "f8343531",
   "metadata": {},
   "outputs": [],
   "source": [
    "for i in range(100,0,-5):\n",
    "    \n",
    "    print(i,end=\" \")"
   ]
  },
  {
   "cell_type": "code",
   "execution_count": 2,
   "id": "a02f2609",
   "metadata": {},
   "outputs": [
    {
     "name": "stdout",
     "output_type": "stream",
     "text": [
      "1 3 5 15 25 75 "
     ]
    }
   ],
   "source": [
    "for i in range(1,76):\n",
    "    if 75%i==0:\n",
    "        print(i,end=\" \")"
   ]
  },
  {
   "cell_type": "code",
   "execution_count": 5,
   "id": "3756a0a8",
   "metadata": {},
   "outputs": [
    {
     "name": "stdout",
     "output_type": "stream",
     "text": [
      "enter a number3\n",
      "lost\n",
      "enter a number5\n",
      "lost\n",
      "enter a number8\n",
      "lost\n"
     ]
    }
   ],
   "source": [
    "import random\n",
    "for i in range(3):\n",
    "    num1=eval(input(\"enter a number\"))\n",
    "    num2=random.randint(1,10)\n",
    "    if num1==num2:\n",
    "        print(\"won\")\n",
    "    else:\n",
    "        print(\"lost\")"
   ]
  },
  {
   "cell_type": "code",
   "execution_count": 8,
   "id": "5a63510b",
   "metadata": {},
   "outputs": [
    {
     "name": "stdout",
     "output_type": "stream",
     "text": [
      "enter a number1\n",
      "8\n",
      "lost\n",
      "enter a number8\n",
      "8\n",
      "won\n"
     ]
    }
   ],
   "source": [
    "import random\n",
    "num2=random.randint(1,10)\n",
    "for i in range(3):\n",
    "    num1=eval(input(\"enter a number\"))\n",
    "    print(num2)\n",
    "    if num1==num2:\n",
    "        print(\"won\")\n",
    "        break\n",
    "    else:\n",
    "        print(\"lost\")"
   ]
  },
  {
   "cell_type": "markdown",
   "id": "2ed8323c",
   "metadata": {},
   "source": [
    "# sum and counter"
   ]
  },
  {
   "cell_type": "code",
   "execution_count": 9,
   "id": "56ac9595",
   "metadata": {},
   "outputs": [
    {
     "name": "stdout",
     "output_type": "stream",
     "text": [
      "Sum: 55\n"
     ]
    }
   ],
   "source": [
    "# wap the user get the sum of first 10 natural number\n",
    "# 1+2+3...10=55\n",
    "Sum=0\n",
    "for i in range(1,11):\n",
    "    Sum=Sum+i\n",
    "print(\"Sum:\",Sum)"
   ]
  },
  {
   "cell_type": "code",
   "execution_count": 10,
   "id": "9b6ef117",
   "metadata": {},
   "outputs": [
    {
     "name": "stdout",
     "output_type": "stream",
     "text": [
      "Sum: 124\n"
     ]
    }
   ],
   "source": [
    "Sum=0\n",
    "for i in range(1,76):\n",
    "    if 75%i==0:\n",
    "        Sum=Sum+i\n",
    "print(\"Sum:\",Sum)"
   ]
  },
  {
   "cell_type": "code",
   "execution_count": 13,
   "id": "7cdf4e27",
   "metadata": {},
   "outputs": [
    {
     "name": "stdout",
     "output_type": "stream",
     "text": [
      "Even sum: 56\n",
      "Odd sum: 202\n"
     ]
    }
   ],
   "source": [
    "import random\n",
    "Even_Sum=0\n",
    "Odd_Sum=0\n",
    "for i in range(5):\n",
    "    num=random.randint(1,100)\n",
    "    if num%2==0:\n",
    "        Even_Sum=Even_Sum+num\n",
    "    else:\n",
    "        Odd_Sum=Odd_Sum+num\n",
    "print(\"Even sum:\",Even_Sum)\n",
    "print(\"Odd sum:\",Odd_Sum)\n",
    "    "
   ]
  },
  {
   "cell_type": "markdown",
   "id": "05c88a26",
   "metadata": {},
   "source": [
    "**Counter**"
   ]
  },
  {
   "cell_type": "code",
   "execution_count": 14,
   "id": "5d35811a",
   "metadata": {},
   "outputs": [
    {
     "name": "stdout",
     "output_type": "stream",
     "text": [
      "6\n"
     ]
    }
   ],
   "source": [
    "Count=0\n",
    "for i in range(1,76):\n",
    "    if 75%i==0:\n",
    "        Count +=1\n",
    "print(Count)"
   ]
  },
  {
   "cell_type": "code",
   "execution_count": 16,
   "id": "32c9dfd3",
   "metadata": {},
   "outputs": [
    {
     "name": "stdout",
     "output_type": "stream",
     "text": [
      "Even count: 92\n",
      "Odd count: 177\n"
     ]
    }
   ],
   "source": [
    "import random\n",
    "Even_count=0\n",
    "Odd_count=0\n",
    "for i in range(5):\n",
    "    num=random.randint(1,100)\n",
    "    if num%2==0:\n",
    "        Even_count=Even_count+num\n",
    "    else:\n",
    "        Odd_count=Odd_count+num\n",
    "print(\"Even count:\",Even_count)\n",
    "print(\"Odd count:\",Odd_count)"
   ]
  },
  {
   "cell_type": "markdown",
   "id": "ab6fdbf1",
   "metadata": {},
   "source": [
    "# in operator"
   ]
  },
  {
   "cell_type": "code",
   "execution_count": 18,
   "id": "c2a4e9a0",
   "metadata": {},
   "outputs": [
    {
     "ename": "SyntaxError",
     "evalue": "invalid syntax (2356664832.py, line 1)",
     "output_type": "error",
     "traceback": [
      "\u001b[1;36m  File \u001b[1;32m\"C:\\Users\\amitk\\AppData\\Local\\Temp\\ipykernel_17232\\2356664832.py\"\u001b[1;36m, line \u001b[1;32m1\u001b[0m\n\u001b[1;33m    for i in range()\u001b[0m\n\u001b[1;37m                    ^\u001b[0m\n\u001b[1;31mSyntaxError\u001b[0m\u001b[1;31m:\u001b[0m invalid syntax\n"
     ]
    }
   ],
   "source": [
    "for i in range()\n",
    "\n",
    "for "
   ]
  },
  {
   "cell_type": "code",
   "execution_count": 19,
   "id": "17a30ad3",
   "metadata": {},
   "outputs": [
    {
     "name": "stdout",
     "output_type": "stream",
     "text": [
      "p\n",
      "y\n",
      "t\n",
      "h\n",
      "o\n",
      "n\n"
     ]
    }
   ],
   "source": [
    "for i in \"python\":\n",
    "    print(i)"
   ]
  },
  {
   "cell_type": "code",
   "execution_count": 20,
   "id": "d46f1a9d",
   "metadata": {},
   "outputs": [
    {
     "data": {
      "text/plain": [
       "True"
      ]
     },
     "execution_count": 20,
     "metadata": {},
     "output_type": "execute_result"
    }
   ],
   "source": [
    "'p' in \"python\""
   ]
  },
  {
   "cell_type": "code",
   "execution_count": 23,
   "id": "069c8982",
   "metadata": {},
   "outputs": [
    {
     "data": {
      "text/plain": [
       "True"
      ]
     },
     "execution_count": 23,
     "metadata": {},
     "output_type": "execute_result"
    }
   ],
   "source": [
    "'y' in \"python\"\n",
    "'py' in \"python\""
   ]
  },
  {
   "cell_type": "code",
   "execution_count": 26,
   "id": "fc6b8462",
   "metadata": {},
   "outputs": [
    {
     "data": {
      "text/plain": [
       "True"
      ]
     },
     "execution_count": 26,
     "metadata": {},
     "output_type": "execute_result"
    }
   ],
   "source": [
    "'th' in \"python\""
   ]
  },
  {
   "cell_type": "code",
   "execution_count": 27,
   "id": "b0d2f19d",
   "metadata": {},
   "outputs": [
    {
     "name": "stdout",
     "output_type": "stream",
     "text": [
      "p y t h o n "
     ]
    }
   ],
   "source": [
    "for i in \"python\":\n",
    "    print(i,end=\" \")"
   ]
  },
  {
   "cell_type": "code",
   "execution_count": 28,
   "id": "316ab570",
   "metadata": {},
   "outputs": [
    {
     "name": "stdout",
     "output_type": "stream",
     "text": [
      "p y t h o n "
     ]
    }
   ],
   "source": [
    "name= \"python\"\n",
    "for i in name:\n",
    "    print(i,end=\" \")"
   ]
  },
  {
   "cell_type": "code",
   "execution_count": 29,
   "id": "c6356813",
   "metadata": {},
   "outputs": [
    {
     "data": {
      "text/plain": [
       "True"
      ]
     },
     "execution_count": 29,
     "metadata": {},
     "output_type": "execute_result"
    }
   ],
   "source": [
    " 'p'>'P'"
   ]
  },
  {
   "cell_type": "markdown",
   "id": "7d21298c",
   "metadata": {},
   "source": [
    "# ord & chr"
   ]
  },
  {
   "cell_type": "code",
   "execution_count": 30,
   "id": "e6f403b5",
   "metadata": {},
   "outputs": [
    {
     "data": {
      "text/plain": [
       "False"
      ]
     },
     "execution_count": 30,
     "metadata": {},
     "output_type": "execute_result"
    }
   ],
   "source": [
    "'P'>'p'"
   ]
  },
  {
   "cell_type": "code",
   "execution_count": 33,
   "id": "e43a010d",
   "metadata": {},
   "outputs": [],
   "source": [
    "# ASCII: Americam Standrd Code for Information Intechange"
   ]
  },
  {
   "cell_type": "code",
   "execution_count": 34,
   "id": "7d1b6b73",
   "metadata": {},
   "outputs": [
    {
     "data": {
      "text/plain": [
       "False"
      ]
     },
     "execution_count": 34,
     "metadata": {},
     "output_type": "execute_result"
    }
   ],
   "source": [
    "'A' == 65\n",
    "'a'==97"
   ]
  },
  {
   "cell_type": "code",
   "execution_count": 38,
   "id": "e52f2a20",
   "metadata": {},
   "outputs": [
    {
     "data": {
      "text/plain": [
       "True"
      ]
     },
     "execution_count": 38,
     "metadata": {},
     "output_type": "execute_result"
    }
   ],
   "source": [
    "ord('A')"
   ]
  },
  {
   "cell_type": "code",
   "execution_count": 37,
   "id": "81abdf93",
   "metadata": {},
   "outputs": [
    {
     "data": {
      "text/plain": [
       "(112, 80)"
      ]
     },
     "execution_count": 37,
     "metadata": {},
     "output_type": "execute_result"
    }
   ],
   "source": [
    "ord('p'),ord('P')"
   ]
  },
  {
   "cell_type": "code",
   "execution_count": 39,
   "id": "0fafa387",
   "metadata": {},
   "outputs": [
    {
     "data": {
      "text/plain": [
       "'p'"
      ]
     },
     "execution_count": 39,
     "metadata": {},
     "output_type": "execute_result"
    }
   ],
   "source": [
    "chr(112)"
   ]
  },
  {
   "cell_type": "code",
   "execution_count": 1,
   "id": "29068975",
   "metadata": {},
   "outputs": [
    {
     "data": {
      "text/plain": [
       "111"
      ]
     },
     "execution_count": 1,
     "metadata": {},
     "output_type": "execute_result"
    }
   ],
   "source": [
    "ord('o')"
   ]
  },
  {
   "cell_type": "code",
   "execution_count": 2,
   "id": "6f29329c",
   "metadata": {},
   "outputs": [
    {
     "data": {
      "text/plain": [
       "'o'"
      ]
     },
     "execution_count": 2,
     "metadata": {},
     "output_type": "execute_result"
    }
   ],
   "source": [
    "chr(111)"
   ]
  },
  {
   "cell_type": "code",
   "execution_count": 9,
   "id": "966768ca",
   "metadata": {},
   "outputs": [
    {
     "name": "stdout",
     "output_type": "stream",
     "text": [
      "112 - p : 121 - y : 116 - t : 104 - h : 111 - o : 110 - n : "
     ]
    }
   ],
   "source": [
    "for i in \"python\":\n",
    "    print(ord(i),\"-\",i,\": \" ,end=\"\")"
   ]
  },
  {
   "cell_type": "code",
   "execution_count": 13,
   "id": "179bc1c5",
   "metadata": {},
   "outputs": [
    {
     "name": "stdout",
     "output_type": "stream",
     "text": [
      "97 - a : 115 - s : 99 - c : 105 - i : 105 - i : 95 - _ : 117 - u : 112 - p : 112 - p : 101 - e : 114 - r : 99 - c : 97 - a : 115 - s : 101 - e : "
     ]
    }
   ],
   "source": [
    "import string\n",
    "for i in 'ascii_uppercase':\n",
    "    print(ord(i),\"-\",i,\": \" ,end=\"\")"
   ]
  },
  {
   "cell_type": "code",
   "execution_count": 12,
   "id": "65d25ce0",
   "metadata": {},
   "outputs": [
    {
     "data": {
      "text/plain": [
       "['Formatter',\n",
       " 'Template',\n",
       " '_ChainMap',\n",
       " '__all__',\n",
       " '__builtins__',\n",
       " '__cached__',\n",
       " '__doc__',\n",
       " '__file__',\n",
       " '__loader__',\n",
       " '__name__',\n",
       " '__package__',\n",
       " '__spec__',\n",
       " '_re',\n",
       " '_sentinel_dict',\n",
       " '_string',\n",
       " 'ascii_letters',\n",
       " 'ascii_lowercase',\n",
       " 'ascii_uppercase',\n",
       " 'capwords',\n",
       " 'digits',\n",
       " 'hexdigits',\n",
       " 'octdigits',\n",
       " 'printable',\n",
       " 'punctuation',\n",
       " 'whitespace']"
      ]
     },
     "execution_count": 12,
     "metadata": {},
     "output_type": "execute_result"
    }
   ],
   "source": [
    "dir(string)"
   ]
  },
  {
   "cell_type": "code",
   "execution_count": 17,
   "id": "e9c3e985",
   "metadata": {},
   "outputs": [
    {
     "name": "stdout",
     "output_type": "stream",
     "text": [
      "65 - A : 66 - B : 67 - C : 68 - D : 69 - E : 70 - F : 71 - G : 72 - H : 73 - I : 74 - J : 75 - K : 76 - L : 77 - M : 78 - N : 79 - O : 80 - P : 81 - Q : 82 - R : 83 - S : 84 - T : 85 - U : 86 - V : 87 - W : 88 - X : 89 - Y : 90 - Z : "
     ]
    }
   ],
   "source": [
    "import string\n",
    "C=string.ascii_uppercase\n",
    "for i in C:\n",
    "    print(ord(i),\"-\",i,\": \" ,end=\"\")"
   ]
  },
  {
   "cell_type": "code",
   "execution_count": 15,
   "id": "3ba671e6",
   "metadata": {},
   "outputs": [],
   "source": [
    "C=string.ascii_uppercase"
   ]
  },
  {
   "cell_type": "code",
   "execution_count": 16,
   "id": "a46b4c70",
   "metadata": {},
   "outputs": [
    {
     "data": {
      "text/plain": [
       "'ABCDEFGHIJKLMNOPQRSTUVWXYZ'"
      ]
     },
     "execution_count": 16,
     "metadata": {},
     "output_type": "execute_result"
    }
   ],
   "source": [
    "C"
   ]
  },
  {
   "cell_type": "code",
   "execution_count": 18,
   "id": "1207ebcb",
   "metadata": {},
   "outputs": [
    {
     "name": "stdout",
     "output_type": "stream",
     "text": [
      "97 - a : 98 - b : 99 - c : 100 - d : 101 - e : 102 - f : 103 - g : 104 - h : 105 - i : 106 - j : 107 - k : 108 - l : 109 - m : 110 - n : 111 - o : 112 - p : 113 - q : 114 - r : 115 - s : 116 - t : 117 - u : 118 - v : 119 - w : 120 - x : 121 - y : 122 - z : "
     ]
    }
   ],
   "source": [
    "import string\n",
    "c=string.ascii_lowercase\n",
    "for i in c:\n",
    "    print(ord(i),\"-\",i,\": \" ,end=\"\")"
   ]
  },
  {
   "cell_type": "code",
   "execution_count": 19,
   "id": "5e9d6aa9",
   "metadata": {},
   "outputs": [
    {
     "data": {
      "text/plain": [
       "'abcdefghijklmnopqrstuvwxyzABCDEFGHIJKLMNOPQRSTUVWXYZ'"
      ]
     },
     "execution_count": 19,
     "metadata": {},
     "output_type": "execute_result"
    }
   ],
   "source": [
    "x=string.ascii_letters\n",
    "x"
   ]
  },
  {
   "cell_type": "code",
   "execution_count": 25,
   "id": "ec040e4d",
   "metadata": {},
   "outputs": [
    {
     "name": "stdout",
     "output_type": "stream",
     "text": [
      "32 -   | 33 - ! | 34 - \" | 35 - # | 36 - $ | 37 - % | 38 - & | 39 - ' | 40 - ( | 41 - ) | 42 - * | 43 - + | 44 - , | 45 - - | 46 - . | 47 - / | 48 - 0 | 49 - 1 | 50 - 2 | 51 - 3 | 52 - 4 | 53 - 5 | 54 - 6 | 55 - 7 | 56 - 8 | 57 - 9 | 58 - : | 59 - ; | 60 - < | 61 - = | 62 - > | 63 - ? | 64 - @ | 65 - A | 66 - B | 67 - C | 68 - D | 69 - E | 70 - F | 71 - G | 72 - H | 73 - I | 74 - J | 75 - K | 76 - L | 77 - M | 78 - N | 79 - O | 80 - P | 81 - Q | 82 - R | 83 - S | 84 - T | 85 - U | 86 - V | 87 - W | 88 - X | 89 - Y | 90 - Z | 91 - [ | 92 - \\ | 93 - ] | 94 - ^ | 95 - _ | 96 - ` | 97 - a | 98 - b | 99 - c | 100 - d | 101 - e | 102 - f | 103 - g | 104 - h | 105 - i | 106 - j | 107 - k | 108 - l | 109 - m | 110 - n | 111 - o | 112 - p | 113 - q | 114 - r | 115 - s | 116 - t | 117 - u | 118 - v | 119 - w | 120 - x | 121 - y | 122 - z | 123 - { | 124 - | | 125 - } | 126 - ~ | "
     ]
    }
   ],
   "source": [
    "for i in range(32,127):\n",
    "    print(i,\"-\",chr(i),\"| \" ,end=\"\")"
   ]
  },
  {
   "cell_type": "code",
   "execution_count": 28,
   "id": "8cbe4ab8",
   "metadata": {},
   "outputs": [
    {
     "name": "stdout",
     "output_type": "stream",
     "text": [
      "2000 - ߐ | 2001 - ߑ | 2002 - ߒ | 2003 - ߓ | 2004 - ߔ | 2005 - ߕ | 2006 - ߖ | 2007 - ߗ | 2008 - ߘ | 2009 - ߙ | 2010 - ߚ | 2011 - ߛ | 2012 - ߜ | 2013 - ߝ | 2014 - ߞ | 2015 - ߟ | 2016 - ߠ | 2017 - ߡ | 2018 - ߢ | 2019 - ߣ | 2020 - ߤ | 2021 - ߥ | 2022 - ߦ | 2023 - ߧ | 2024 - ߨ | 2025 - ߩ | 2026 - ߪ | 2027 - ߫ | 2028 - ߬ | 2029 - ߭ | 2030 - ߮ | 2031 - ߯ | 2032 - ߰ | 2033 - ߱ | 2034 - ߲ | 2035 - ߳ | 2036 - ߴ | 2037 - ߵ | 2038 - ߶ | 2039 - ߷ | 2040 - ߸ | 2041 - ߹ | 2042 - ߺ | 2043 - ߻ | 2044 - ߼ | 2045 - ߽ | 2046 - ߾ | 2047 - ߿ | 2048 - ࠀ | 2049 - ࠁ | 2050 - ࠂ | 2051 - ࠃ | 2052 - ࠄ | 2053 - ࠅ | 2054 - ࠆ | 2055 - ࠇ | 2056 - ࠈ | 2057 - ࠉ | 2058 - ࠊ | 2059 - ࠋ | 2060 - ࠌ | 2061 - ࠍ | 2062 - ࠎ | 2063 - ࠏ | 2064 - ࠐ | 2065 - ࠑ | 2066 - ࠒ | 2067 - ࠓ | 2068 - ࠔ | 2069 - ࠕ | 2070 - ࠖ | 2071 - ࠗ | 2072 - ࠘ | 2073 - ࠙ | 2074 - ࠚ | 2075 - ࠛ | 2076 - ࠜ | 2077 - ࠝ | 2078 - ࠞ | 2079 - ࠟ | 2080 - ࠠ | 2081 - ࠡ | 2082 - ࠢ | 2083 - ࠣ | 2084 - ࠤ | 2085 - ࠥ | 2086 - ࠦ | 2087 - ࠧ | 2088 - ࠨ | 2089 - ࠩ | 2090 - ࠪ | 2091 - ࠫ | 2092 - ࠬ | 2093 - ࠭ | 2094 - ࠮ | 2095 - ࠯ | 2096 - ࠰ | 2097 - ࠱ | 2098 - ࠲ | 2099 - ࠳ | 2100 - ࠴ | 2101 - ࠵ | 2102 - ࠶ | 2103 - ࠷ | 2104 - ࠸ | 2105 - ࠹ | 2106 - ࠺ | 2107 - ࠻ | 2108 - ࠼ | 2109 - ࠽ | 2110 - ࠾ | 2111 - ࠿ | 2112 - ࡀ | 2113 - ࡁ | 2114 - ࡂ | 2115 - ࡃ | 2116 - ࡄ | 2117 - ࡅ | 2118 - ࡆ | 2119 - ࡇ | 2120 - ࡈ | 2121 - ࡉ | 2122 - ࡊ | 2123 - ࡋ | 2124 - ࡌ | 2125 - ࡍ | 2126 - ࡎ | 2127 - ࡏ | 2128 - ࡐ | 2129 - ࡑ | 2130 - ࡒ | 2131 - ࡓ | 2132 - ࡔ | 2133 - ࡕ | 2134 - ࡖ | 2135 - ࡗ | 2136 - ࡘ | 2137 - ࡙ | 2138 - ࡚ | 2139 - ࡛ | 2140 - ࡜ | 2141 - ࡝ | 2142 - ࡞ | 2143 - ࡟ | 2144 - ࡠ | 2145 - ࡡ | 2146 - ࡢ | 2147 - ࡣ | 2148 - ࡤ | 2149 - ࡥ | 2150 - ࡦ | 2151 - ࡧ | 2152 - ࡨ | 2153 - ࡩ | 2154 - ࡪ | 2155 - ࡫ | 2156 - ࡬ | 2157 - ࡭ | 2158 - ࡮ | 2159 - ࡯ | 2160 - ࡰ | 2161 - ࡱ | 2162 - ࡲ | 2163 - ࡳ | 2164 - ࡴ | 2165 - ࡵ | 2166 - ࡶ | 2167 - ࡷ | 2168 - ࡸ | 2169 - ࡹ | 2170 - ࡺ | 2171 - ࡻ | 2172 - ࡼ | 2173 - ࡽ | 2174 - ࡾ | 2175 - ࡿ | 2176 - ࢀ | 2177 - ࢁ | 2178 - ࢂ | 2179 - ࢃ | 2180 - ࢄ | 2181 - ࢅ | 2182 - ࢆ | 2183 - ࢇ | 2184 - ࢈ | 2185 - ࢉ | 2186 - ࢊ | 2187 - ࢋ | 2188 - ࢌ | 2189 - ࢍ | 2190 - ࢎ | 2191 - ࢏ | 2192 - ࢐ | 2193 - ࢑ | 2194 - ࢒ | 2195 - ࢓ | 2196 - ࢔ | 2197 - ࢕ | 2198 - ࢖ | 2199 - ࢗ | 2200 - ࢘ | 2201 - ࢙ | 2202 - ࢚ | 2203 - ࢛ | 2204 - ࢜ | 2205 - ࢝ | 2206 - ࢞ | 2207 - ࢟ | 2208 - ࢠ | 2209 - ࢡ | 2210 - ࢢ | 2211 - ࢣ | 2212 - ࢤ | 2213 - ࢥ | 2214 - ࢦ | 2215 - ࢧ | 2216 - ࢨ | 2217 - ࢩ | 2218 - ࢪ | 2219 - ࢫ | 2220 - ࢬ | 2221 - ࢭ | 2222 - ࢮ | 2223 - ࢯ | 2224 - ࢰ | 2225 - ࢱ | 2226 - ࢲ | 2227 - ࢳ | 2228 - ࢴ | 2229 - ࢵ | 2230 - ࢶ | 2231 - ࢷ | 2232 - ࢸ | 2233 - ࢹ | 2234 - ࢺ | 2235 - ࢻ | 2236 - ࢼ | 2237 - ࢽ | 2238 - ࢾ | 2239 - ࢿ | 2240 - ࣀ | 2241 - ࣁ | 2242 - ࣂ | 2243 - ࣃ | 2244 - ࣄ | 2245 - ࣅ | 2246 - ࣆ | 2247 - ࣇ | 2248 - ࣈ | 2249 - ࣉ | 2250 - ࣊ | 2251 - ࣋ | 2252 - ࣌ | 2253 - ࣍ | 2254 - ࣎ | 2255 - ࣏ | 2256 - ࣐ | 2257 - ࣑ | 2258 - ࣒ | 2259 - ࣓ | 2260 - ࣔ | 2261 - ࣕ | 2262 - ࣖ | 2263 - ࣗ | 2264 - ࣘ | 2265 - ࣙ | 2266 - ࣚ | 2267 - ࣛ | 2268 - ࣜ | 2269 - ࣝ | 2270 - ࣞ | 2271 - ࣟ | 2272 - ࣠ | 2273 - ࣡ | 2274 - ࣢ | 2275 - ࣣ | 2276 - ࣤ | 2277 - ࣥ | 2278 - ࣦ | 2279 - ࣧ | 2280 - ࣨ | 2281 - ࣩ | 2282 - ࣪ | 2283 - ࣫ | 2284 - ࣬ | 2285 - ࣭ | 2286 - ࣮ | 2287 - ࣯ | 2288 - ࣰ | 2289 - ࣱ | 2290 - ࣲ | 2291 - ࣳ | 2292 - ࣴ | 2293 - ࣵ | 2294 - ࣶ | 2295 - ࣷ | 2296 - ࣸ | 2297 - ࣹ | 2298 - ࣺ | 2299 - ࣻ | 2300 - ࣼ | 2301 - ࣽ | 2302 - ࣾ | 2303 - ࣿ | 2304 - ऀ | 2305 - ँ | 2306 - ं | 2307 - ः | 2308 - ऄ | 2309 - अ | 2310 - आ | 2311 - इ | 2312 - ई | 2313 - उ | 2314 - ऊ | 2315 - ऋ | 2316 - ऌ | 2317 - ऍ | 2318 - ऎ | 2319 - ए | 2320 - ऐ | 2321 - ऑ | 2322 - ऒ | 2323 - ओ | 2324 - औ | 2325 - क | 2326 - ख | 2327 - ग | 2328 - घ | 2329 - ङ | 2330 - च | 2331 - छ | 2332 - ज | 2333 - झ | 2334 - ञ | 2335 - ट | 2336 - ठ | 2337 - ड | 2338 - ढ | 2339 - ण | 2340 - त | 2341 - थ | 2342 - द | 2343 - ध | 2344 - न | 2345 - ऩ | 2346 - प | 2347 - फ | 2348 - ब | 2349 - भ | 2350 - म | 2351 - य | 2352 - र | 2353 - ऱ | 2354 - ल | 2355 - ळ | 2356 - ऴ | 2357 - व | 2358 - श | 2359 - ष | 2360 - स | 2361 - ह | 2362 - ऺ | 2363 - ऻ | 2364 - ़ | 2365 - ऽ | 2366 - ा | 2367 - ि | 2368 - ी | 2369 - ु | 2370 - ू | 2371 - ृ | 2372 - ॄ | 2373 - ॅ | 2374 - ॆ | 2375 - े | 2376 - ै | 2377 - ॉ | 2378 - ॊ | 2379 - ो | 2380 - ौ | 2381 - ् | 2382 - ॎ | 2383 - ॏ | 2384 - ॐ | 2385 - ॑ | 2386 - ॒ | 2387 - ॓ | 2388 - ॔ | 2389 - ॕ | 2390 - ॖ | 2391 - ॗ | 2392 - क़ | 2393 - ख़ | 2394 - ग़ | 2395 - ज़ | 2396 - ड़ | 2397 - ढ़ | 2398 - फ़ | 2399 - य़ | 2400 - ॠ | 2401 - ॡ | 2402 - ॢ | 2403 - ॣ | 2404 - । | 2405 - ॥ | 2406 - ० | 2407 - १ | 2408 - २ | 2409 - ३ | 2410 - ४ | 2411 - ५ | 2412 - ६ | 2413 - ७ | 2414 - ८ | 2415 - ९ | 2416 - ॰ | 2417 - ॱ | 2418 - ॲ | 2419 - ॳ | 2420 - ॴ | 2421 - ॵ | 2422 - ॶ | 2423 - ॷ | 2424 - ॸ | 2425 - ॹ | 2426 - ॺ | 2427 - ॻ | 2428 - ॼ | 2429 - ॽ | 2430 - ॾ | 2431 - ॿ | 2432 - ঀ | 2433 - ঁ | 2434 - ং | 2435 - ঃ | 2436 - ঄ | 2437 - অ | 2438 - আ | 2439 - ই | 2440 - ঈ | 2441 - উ | 2442 - ঊ | 2443 - ঋ | 2444 - ঌ | 2445 - ঍ | 2446 - ঎ | 2447 - এ | 2448 - ঐ | 2449 - ঑ | 2450 - ঒ | 2451 - ও | 2452 - ঔ | 2453 - ক | 2454 - খ | 2455 - গ | 2456 - ঘ | 2457 - ঙ | 2458 - চ | 2459 - ছ | 2460 - জ | 2461 - ঝ | 2462 - ঞ | 2463 - ট | 2464 - ঠ | 2465 - ড | 2466 - ঢ | 2467 - ণ | 2468 - ত | 2469 - থ | 2470 - দ | 2471 - ধ | 2472 - ন | 2473 - ঩ | 2474 - প | 2475 - ফ | 2476 - ব | 2477 - ভ | 2478 - ম | 2479 - য | 2480 - র | 2481 - ঱ | 2482 - ল | 2483 - ঳ | 2484 - ঴ | 2485 - ঵ | 2486 - শ | 2487 - ষ | 2488 - স | 2489 - হ | 2490 - ঺ | 2491 - ঻ | 2492 - ় | 2493 - ঽ | 2494 - া | 2495 - ি | 2496 - ী | 2497 - ু | 2498 - ূ | 2499 - ৃ | 2500 - ৄ | 2501 - ৅ | 2502 - ৆ | 2503 - ে | 2504 - ৈ | 2505 - ৉ | 2506 - ৊ | 2507 - ো | 2508 - ৌ | 2509 - ্ | 2510 - ৎ | 2511 - ৏ | 2512 - ৐ | 2513 - ৑ | 2514 - ৒ | 2515 - ৓ | 2516 - ৔ | 2517 - ৕ | 2518 - ৖ | 2519 - ৗ | 2520 - ৘ | 2521 - ৙ | 2522 - ৚ | 2523 - ৛ | 2524 - ড় | 2525 - ঢ় | 2526 - ৞ | 2527 - য় | 2528 - ৠ | 2529 - ৡ | 2530 - ৢ | 2531 - ৣ | 2532 - ৤ | 2533 - ৥ | 2534 - ০ | 2535 - ১ | 2536 - ২ | 2537 - ৩ | 2538 - ৪ | 2539 - ৫ | 2540 - ৬ | 2541 - ৭ | 2542 - ৮ | 2543 - ৯ | 2544 - ৰ | 2545 - ৱ | 2546 - ৲ | 2547 - ৳ | 2548 - ৴ | 2549 - ৵ | 2550 - ৶ | 2551 - ৷ | 2552 - ৸ | 2553 - ৹ | 2554 - ৺ | 2555 - ৻ | 2556 - ৼ | 2557 - ৽ | 2558 - ৾ | 2559 - ৿ | 2560 - ਀ | 2561 - ਁ | 2562 - ਂ | 2563 - ਃ | 2564 - ਄ | 2565 - ਅ | 2566 - ਆ | 2567 - ਇ | 2568 - ਈ | 2569 - ਉ | 2570 - ਊ | 2571 - ਋ | 2572 - ਌ | 2573 - ਍ | 2574 - ਎ | 2575 - ਏ | 2576 - ਐ | 2577 - ਑ | 2578 - ਒ | 2579 - ਓ | 2580 - ਔ | 2581 - ਕ | 2582 - ਖ | 2583 - ਗ | 2584 - ਘ | 2585 - ਙ | 2586 - ਚ | 2587 - ਛ | 2588 - ਜ | 2589 - ਝ | 2590 - ਞ | 2591 - ਟ | 2592 - ਠ | 2593 - ਡ | 2594 - ਢ | 2595 - ਣ | 2596 - ਤ | 2597 - ਥ | 2598 - ਦ | 2599 - ਧ | 2600 - ਨ | 2601 - ਩ | 2602 - ਪ | 2603 - ਫ | 2604 - ਬ | 2605 - ਭ | 2606 - ਮ | 2607 - ਯ | 2608 - ਰ | 2609 - ਱ | 2610 - ਲ | 2611 - ਲ਼ | 2612 - ਴ | 2613 - ਵ | 2614 - ਸ਼ | 2615 - ਷ | 2616 - ਸ | 2617 - ਹ | 2618 - ਺ | 2619 - ਻ | 2620 - ਼ | 2621 - ਽ | 2622 - ਾ | 2623 - ਿ | 2624 - ੀ | 2625 - ੁ | 2626 - ੂ | 2627 - ੃ | 2628 - ੄ | 2629 - ੅ | 2630 - ੆ | 2631 - ੇ | 2632 - ੈ | 2633 - ੉ | 2634 - ੊ | 2635 - ੋ | 2636 - ੌ | 2637 - ੍ | 2638 - ੎ | 2639 - ੏ | 2640 - ੐ | 2641 - ੑ | 2642 - ੒ | 2643 - ੓ | 2644 - ੔ | 2645 - ੕ | 2646 - ੖ | 2647 - ੗ | 2648 - ੘ | 2649 - ਖ਼ | 2650 - ਗ਼ | 2651 - ਜ਼ | 2652 - ੜ | 2653 - ੝ | 2654 - ਫ਼ | 2655 - ੟ | 2656 - ੠ | 2657 - ੡ | 2658 - ੢ | 2659 - ੣ | 2660 - ੤ | 2661 - ੥ | 2662 - ੦ | 2663 - ੧ | 2664 - ੨ | 2665 - ੩ | 2666 - ੪ | 2667 - ੫ | 2668 - ੬ | 2669 - ੭ | 2670 - ੮ | 2671 - ੯ | 2672 - ੰ | 2673 - ੱ | 2674 - ੲ | 2675 - ੳ | 2676 - ੴ | 2677 - ੵ | 2678 - ੶ | 2679 - ੷ | 2680 - ੸ | 2681 - ੹ | 2682 - ੺ | 2683 - ੻ | 2684 - ੼ | 2685 - ੽ | 2686 - ੾ | 2687 - ੿ | 2688 - ઀ | 2689 - ઁ | 2690 - ં | 2691 - ઃ | 2692 - ઄ | 2693 - અ | 2694 - આ | 2695 - ઇ | 2696 - ઈ | 2697 - ઉ | 2698 - ઊ | 2699 - ઋ | 2700 - ઌ | 2701 - ઍ | 2702 - ઎ | 2703 - એ | 2704 - ઐ | 2705 - ઑ | 2706 - ઒ | 2707 - ઓ | 2708 - ઔ | 2709 - ક | 2710 - ખ | 2711 - ગ | 2712 - ઘ | 2713 - ઙ | 2714 - ચ | 2715 - છ | 2716 - જ | 2717 - ઝ | 2718 - ઞ | 2719 - ટ | 2720 - ઠ | 2721 - ડ | 2722 - ઢ | 2723 - ણ | 2724 - ત | 2725 - થ | 2726 - દ | 2727 - ધ | 2728 - ન | 2729 - ઩ | 2730 - પ | 2731 - ફ | 2732 - બ | 2733 - ભ | 2734 - મ | 2735 - ય | 2736 - ર | 2737 - ઱ | 2738 - લ | 2739 - ળ | 2740 - ઴ | 2741 - વ | 2742 - શ | 2743 - ષ | 2744 - સ | 2745 - હ | 2746 - ઺ | 2747 - ઻ | 2748 - ઼ | 2749 - ઽ | 2750 - ા | 2751 - િ | 2752 - ી | 2753 - ુ | 2754 - ૂ | 2755 - ૃ | 2756 - ૄ | 2757 - ૅ | 2758 - ૆ | 2759 - ે | 2760 - ૈ | 2761 - ૉ | 2762 - ૊ | 2763 - ો | 2764 - ૌ | 2765 - ્ | 2766 - ૎ | 2767 - ૏ | 2768 - ૐ | 2769 - ૑ | 2770 - ૒ | 2771 - ૓ | 2772 - ૔ | 2773 - ૕ | 2774 - ૖ | 2775 - ૗ | 2776 - ૘ | 2777 - ૙ | 2778 - ૚ | 2779 - ૛ | 2780 - ૜ | 2781 - ૝ | 2782 - ૞ | 2783 - ૟ | 2784 - ૠ | 2785 - ૡ | 2786 - ૢ | 2787 - ૣ | 2788 - ૤ | 2789 - ૥ | 2790 - ૦ | 2791 - ૧ | 2792 - ૨ | 2793 - ૩ | 2794 - ૪ | 2795 - ૫ | 2796 - ૬ | 2797 - ૭ | 2798 - ૮ | 2799 - ૯ | 2800 - ૰ | 2801 - ૱ | 2802 - ૲ | 2803 - ૳ | 2804 - ૴ | 2805 - ૵ | 2806 - ૶ | 2807 - ૷ | 2808 - ૸ | 2809 - ૹ | 2810 - ૺ | 2811 - ૻ | 2812 - ૼ | 2813 - ૽ | 2814 - ૾ | 2815 - ૿ | 2816 - ଀ | 2817 - ଁ | 2818 - ଂ | 2819 - ଃ | 2820 - ଄ | 2821 - ଅ | 2822 - ଆ | 2823 - ଇ | 2824 - ଈ | 2825 - ଉ | 2826 - ଊ | 2827 - ଋ | 2828 - ଌ | 2829 - ଍ | 2830 - ଎ | 2831 - ଏ | 2832 - ଐ | 2833 - ଑ | 2834 - ଒ | 2835 - ଓ | 2836 - ଔ | 2837 - କ | 2838 - ଖ | 2839 - ଗ | 2840 - ଘ | 2841 - ଙ | 2842 - ଚ | 2843 - ଛ | 2844 - ଜ | 2845 - ଝ | 2846 - ଞ | 2847 - ଟ | 2848 - ଠ | 2849 - ଡ | 2850 - ଢ | 2851 - ଣ | 2852 - ତ | 2853 - ଥ | 2854 - ଦ | 2855 - ଧ | 2856 - ନ | 2857 - ଩ | 2858 - ପ | 2859 - ଫ | 2860 - ବ | 2861 - ଭ | 2862 - ମ | 2863 - ଯ | 2864 - ର | 2865 - ଱ | 2866 - ଲ | 2867 - ଳ | 2868 - ଴ | 2869 - ଵ | 2870 - ଶ | 2871 - ଷ | 2872 - ସ | 2873 - ହ | 2874 - ଺ | 2875 - ଻ | 2876 - ଼ | 2877 - ଽ | 2878 - ା | 2879 - ି | 2880 - ୀ | 2881 - ୁ | 2882 - ୂ | 2883 - ୃ | 2884 - ୄ | 2885 - ୅ | 2886 - ୆ | 2887 - େ | 2888 - ୈ | 2889 - ୉ | 2890 - ୊ | 2891 - ୋ | 2892 - ୌ | 2893 - ୍ | 2894 - ୎ | 2895 - ୏ | 2896 - ୐ | 2897 - ୑ | 2898 - ୒ | 2899 - ୓ | 2900 - ୔ | 2901 - ୕ | 2902 - ୖ | 2903 - ୗ | 2904 - ୘ | 2905 - ୙ | 2906 - ୚ | 2907 - ୛ | 2908 - ଡ଼ | 2909 - ଢ଼ | 2910 - ୞ | 2911 - ୟ | 2912 - ୠ | 2913 - ୡ | 2914 - ୢ | 2915 - ୣ | 2916 - ୤ | 2917 - ୥ | 2918 - ୦ | 2919 - ୧ | 2920 - ୨ | 2921 - ୩ | 2922 - ୪ | 2923 - ୫ | 2924 - ୬ | 2925 - ୭ | 2926 - ୮ | 2927 - ୯ | 2928 - ୰ | 2929 - ୱ | 2930 - ୲ | 2931 - ୳ | 2932 - ୴ | 2933 - ୵ | 2934 - ୶ | 2935 - ୷ | 2936 - ୸ | 2937 - ୹ | 2938 - ୺ | 2939 - ୻ | 2940 - ୼ | 2941 - ୽ | 2942 - ୾ | 2943 - ୿ | 2944 - ஀ | 2945 - ஁ | 2946 - ஂ | 2947 - ஃ | 2948 - ஄ | 2949 - அ | 2950 - ஆ | 2951 - இ | 2952 - ஈ | 2953 - உ | 2954 - ஊ | 2955 - ஋ | 2956 - ஌ | 2957 - ஍ | 2958 - எ | 2959 - ஏ | 2960 - ஐ | 2961 - ஑ | 2962 - ஒ | 2963 - ஓ | 2964 - ஔ | 2965 - க | 2966 - ஖ | 2967 - ஗ | 2968 - ஘ | 2969 - ங | 2970 - ச | 2971 - ஛ | 2972 - ஜ | 2973 - ஝ | 2974 - ஞ | 2975 - ட | 2976 - ஠ | 2977 - ஡ | 2978 - ஢ | 2979 - ண | 2980 - த | 2981 - ஥ | 2982 - ஦ | 2983 - ஧ | 2984 - ந | 2985 - ன | 2986 - ப | 2987 - ஫ | 2988 - ஬ | 2989 - ஭ | 2990 - ம | 2991 - ய | 2992 - ர | 2993 - ற | 2994 - ல | 2995 - ள | 2996 - ழ | 2997 - வ | 2998 - ஶ | 2999 - ஷ | "
     ]
    }
   ],
   "source": [
    "for i in range(2000,3000):\n",
    "    print(i,\"-\",chr(i),\"| \" ,end=\"\")"
   ]
  },
  {
   "cell_type": "code",
   "execution_count": null,
   "id": "53948678",
   "metadata": {},
   "outputs": [],
   "source": []
  },
  {
   "cell_type": "code",
   "execution_count": null,
   "id": "4363ac0c",
   "metadata": {},
   "outputs": [],
   "source": []
  }
 ],
 "metadata": {
  "kernelspec": {
   "display_name": "Python 3 (ipykernel)",
   "language": "python",
   "name": "python3"
  },
  "language_info": {
   "codemirror_mode": {
    "name": "ipython",
    "version": 3
   },
   "file_extension": ".py",
   "mimetype": "text/x-python",
   "name": "python",
   "nbconvert_exporter": "python",
   "pygments_lexer": "ipython3",
   "version": "3.9.13"
  }
 },
 "nbformat": 4,
 "nbformat_minor": 5
}
