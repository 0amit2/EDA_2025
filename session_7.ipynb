{
 "cells": [
  {
   "cell_type": "code",
   "execution_count": 1,
   "id": "ca1b31b0",
   "metadata": {},
   "outputs": [],
   "source": [
    "import math"
   ]
  },
  {
   "cell_type": "code",
   "execution_count": 2,
   "id": "8a7e9d59",
   "metadata": {},
   "outputs": [
    {
     "data": {
      "text/plain": [
       "23"
      ]
     },
     "execution_count": 2,
     "metadata": {},
     "output_type": "execute_result"
    }
   ],
   "source": [
    "math.floor(23.876)"
   ]
  },
  {
   "cell_type": "code",
   "execution_count": 3,
   "id": "41ae04db",
   "metadata": {},
   "outputs": [
    {
     "data": {
      "text/plain": [
       "23"
      ]
     },
     "execution_count": 3,
     "metadata": {},
     "output_type": "execute_result"
    }
   ],
   "source": [
    "math.floor(23)"
   ]
  },
  {
   "cell_type": "markdown",
   "id": "0babb5e1",
   "metadata": {},
   "source": [
    "**How to take number**"
   ]
  },
  {
   "cell_type": "code",
   "execution_count": 4,
   "id": "1acc3565",
   "metadata": {},
   "outputs": [
    {
     "name": "stdout",
     "output_type": "stream",
     "text": [
      "30\n"
     ]
    }
   ],
   "source": [
    "a=10 # hardcoded\n",
    "b=20\n",
    "c=a+b\n",
    "print(c)"
   ]
  },
  {
   "cell_type": "code",
   "execution_count": 7,
   "id": "a1de1d16",
   "metadata": {},
   "outputs": [
    {
     "name": "stdout",
     "output_type": "stream",
     "text": [
      "n1:8\n",
      "n2:8\n",
      "16\n"
     ]
    }
   ],
   "source": [
    "a=eval(input(\"n1:\"))\n",
    "b=eval(input(\"n2:\"))\n",
    "c=a+b\n",
    "print(c)"
   ]
  },
  {
   "cell_type": "code",
   "execution_count": 14,
   "id": "2cf7db59",
   "metadata": {},
   "outputs": [
    {
     "name": "stdout",
     "output_type": "stream",
     "text": [
      "the addition of 54 and 36 is :90\n"
     ]
    }
   ],
   "source": [
    "import random\n",
    "a=random.randint(1,100)\n",
    "b=random.randint(1,100)\n",
    "c=a+b\n",
    "print(f\"the addition of {a} and {b} is :{c}\")"
   ]
  },
  {
   "cell_type": "markdown",
   "id": "57f02711",
   "metadata": {},
   "source": [
    "# Conditional Statements"
   ]
  },
  {
   "cell_type": "code",
   "execution_count": 15,
   "id": "a4fd0322",
   "metadata": {},
   "outputs": [
    {
     "ename": "SyntaxError",
     "evalue": "invalid syntax (301999026.py, line 1)",
     "output_type": "error",
     "traceback": [
      "\u001b[1;36m  File \u001b[1;32m\"C:\\Users\\amitk\\AppData\\Local\\Temp\\ipykernel_11516\\301999026.py\"\u001b[1;36m, line \u001b[1;32m1\u001b[0m\n\u001b[1;33m    if\u001b[0m\n\u001b[1;37m      ^\u001b[0m\n\u001b[1;31mSyntaxError\u001b[0m\u001b[1;31m:\u001b[0m invalid syntax\n"
     ]
    }
   ],
   "source": [
    "if\n",
    "if else\n",
    "if elif else"
   ]
  },
  {
   "cell_type": "markdown",
   "id": "0f65f408",
   "metadata": {},
   "source": [
    "# if"
   ]
  },
  {
   "cell_type": "code",
   "execution_count": 17,
   "id": "0cb64f59",
   "metadata": {},
   "outputs": [
    {
     "ename": "SyntaxError",
     "evalue": "invalid syntax (3386449721.py, line 1)",
     "output_type": "error",
     "traceback": [
      "\u001b[1;36m  File \u001b[1;32m\"C:\\Users\\amitk\\AppData\\Local\\Temp\\ipykernel_11516\\3386449721.py\"\u001b[1;36m, line \u001b[1;32m1\u001b[0m\n\u001b[1;33m    if <condition>:\u001b[0m\n\u001b[1;37m       ^\u001b[0m\n\u001b[1;31mSyntaxError\u001b[0m\u001b[1;31m:\u001b[0m invalid syntax\n"
     ]
    }
   ],
   "source": [
    "if <condition>:\n",
    "    # code\n",
    "    # code\n",
    "    # code\n",
    "    "
   ]
  },
  {
   "cell_type": "code",
   "execution_count": 18,
   "id": "011349f7",
   "metadata": {},
   "outputs": [
    {
     "data": {
      "text/plain": [
       "True"
      ]
     },
     "execution_count": 18,
     "metadata": {},
     "output_type": "execute_result"
    }
   ],
   "source": [
    "10>0"
   ]
  },
  {
   "cell_type": "code",
   "execution_count": 21,
   "id": "661ccdf3",
   "metadata": {},
   "outputs": [
    {
     "name": "stdout",
     "output_type": "stream",
     "text": [
      "Hello\n"
     ]
    }
   ],
   "source": [
    "if 10>0:\n",
    "    print(\"Hello\")"
   ]
  },
  {
   "cell_type": "code",
   "execution_count": 22,
   "id": "de518359",
   "metadata": {},
   "outputs": [
    {
     "name": "stdout",
     "output_type": "stream",
     "text": [
      "hello\n"
     ]
    }
   ],
   "source": [
    "if 10==10:\n",
    "    print(\"hello\")"
   ]
  },
  {
   "cell_type": "code",
   "execution_count": 24,
   "id": "be44d891",
   "metadata": {},
   "outputs": [
    {
     "name": "stdout",
     "output_type": "stream",
     "text": [
      "hello\n"
     ]
    }
   ],
   "source": [
    "if True:\n",
    "    print(\"hello\")"
   ]
  },
  {
   "cell_type": "code",
   "execution_count": 25,
   "id": "3931430e",
   "metadata": {},
   "outputs": [
    {
     "ename": "SyntaxError",
     "evalue": "invalid syntax (3250402920.py, line 2)",
     "output_type": "error",
     "traceback": [
      "\u001b[1;36m  File \u001b[1;32m\"C:\\Users\\amitk\\AppData\\Local\\Temp\\ipykernel_11516\\3250402920.py\"\u001b[1;36m, line \u001b[1;32m2\u001b[0m\n\u001b[1;33m    if x=True:\u001b[0m\n\u001b[1;37m        ^\u001b[0m\n\u001b[1;31mSyntaxError\u001b[0m\u001b[1;31m:\u001b[0m invalid syntax\n"
     ]
    }
   ],
   "source": [
    "x=1\n",
    "if x=True:\n",
    "    print(\"hello\")"
   ]
  },
  {
   "cell_type": "markdown",
   "id": "e20f0a86",
   "metadata": {},
   "source": [
    "**mistake-1**"
   ]
  },
  {
   "cell_type": "code",
   "execution_count": 27,
   "id": "9b54adc8",
   "metadata": {
    "scrolled": true
   },
   "outputs": [
    {
     "name": "stdout",
     "output_type": "stream",
     "text": [
      "hello\n"
     ]
    }
   ],
   "source": [
    "if True:\n",
    "print(\"hello\") #IndentationError"
   ]
  },
  {
   "cell_type": "code",
   "execution_count": 28,
   "id": "2fa50955",
   "metadata": {},
   "outputs": [
    {
     "name": "stdout",
     "output_type": "stream",
     "text": [
      "hello\n"
     ]
    }
   ],
   "source": [
    "if True:\n",
    "    print(\"hello\") # enter tab"
   ]
  },
  {
   "cell_type": "code",
   "execution_count": 29,
   "id": "b3980fbd",
   "metadata": {},
   "outputs": [
    {
     "name": "stdout",
     "output_type": "stream",
     "text": [
      "hello\n"
     ]
    }
   ],
   "source": [
    "if True:\n",
    "    print(\"hello\") # backspace till : then do enter"
   ]
  },
  {
   "cell_type": "code",
   "execution_count": 30,
   "id": "8efeb769",
   "metadata": {},
   "outputs": [
    {
     "name": "stdout",
     "output_type": "stream",
     "text": [
      "hello\n"
     ]
    }
   ],
   "source": [
    "if True:\n",
    "    print(\"hello\") # space bar"
   ]
  },
  {
   "cell_type": "markdown",
   "id": "5c7c297b",
   "metadata": {},
   "source": [
    "**Mistake-2**"
   ]
  },
  {
   "cell_type": "code",
   "execution_count": 35,
   "id": "0c22c4e0",
   "metadata": {},
   "outputs": [
    {
     "ename": "SyntaxError",
     "evalue": "invalid syntax (547676204.py, line 1)",
     "output_type": "error",
     "traceback": [
      "\u001b[1;36m  File \u001b[1;32m\"C:\\Users\\amitk\\AppData\\Local\\Temp\\ipykernel_11516\\547676204.py\"\u001b[1;36m, line \u001b[1;32m1\u001b[0m\n\u001b[1;33m    if True\u001b[0m\n\u001b[1;37m           ^\u001b[0m\n\u001b[1;31mSyntaxError\u001b[0m\u001b[1;31m:\u001b[0m invalid syntax\n"
     ]
    }
   ],
   "source": [
    "if True\n",
    "    print(\"hello\")"
   ]
  },
  {
   "cell_type": "code",
   "execution_count": 37,
   "id": "9638e365",
   "metadata": {},
   "outputs": [
    {
     "ename": "NameError",
     "evalue": "name 'q' is not defined",
     "output_type": "error",
     "traceback": [
      "\u001b[1;31m---------------------------------------------------------------------------\u001b[0m",
      "\u001b[1;31mNameError\u001b[0m                                 Traceback (most recent call last)",
      "\u001b[1;32m~\\AppData\\Local\\Temp\\ipykernel_11516\\1782790092.py\u001b[0m in \u001b[0;36m<module>\u001b[1;34m\u001b[0m\n\u001b[0;32m      2\u001b[0m     \u001b[0ma\u001b[0m\u001b[1;33m=\u001b[0m\u001b[1;36m10\u001b[0m\u001b[1;33m\u001b[0m\u001b[1;33m\u001b[0m\u001b[0m\n\u001b[0;32m      3\u001b[0m     \u001b[0mb\u001b[0m\u001b[1;33m=\u001b[0m\u001b[1;36m20\u001b[0m\u001b[1;33m\u001b[0m\u001b[1;33m\u001b[0m\u001b[0m\n\u001b[1;32m----> 4\u001b[1;33m     \u001b[0mprint\u001b[0m\u001b[1;33m(\u001b[0m\u001b[0mq\u001b[0m\u001b[1;33m)\u001b[0m\u001b[1;33m\u001b[0m\u001b[1;33m\u001b[0m\u001b[0m\n\u001b[0m",
      "\u001b[1;31mNameError\u001b[0m: name 'q' is not defined"
     ]
    }
   ],
   "source": [
    "if 10>0:\n",
    "    a=10\n",
    "    b=20\n",
    "    print(q)"
   ]
  },
  {
   "cell_type": "code",
   "execution_count": 38,
   "id": "f639d125",
   "metadata": {},
   "outputs": [
    {
     "ename": "IndentationError",
     "evalue": "unexpected indent (1577943131.py, line 3)",
     "output_type": "error",
     "traceback": [
      "\u001b[1;36m  File \u001b[1;32m\"C:\\Users\\amitk\\AppData\\Local\\Temp\\ipykernel_11516\\1577943131.py\"\u001b[1;36m, line \u001b[1;32m3\u001b[0m\n\u001b[1;33m    print(\"hi\")\u001b[0m\n\u001b[1;37m    ^\u001b[0m\n\u001b[1;31mIndentationError\u001b[0m\u001b[1;31m:\u001b[0m unexpected indent\n"
     ]
    }
   ],
   "source": [
    "if 10>0:\n",
    "    print(\"hello\")\n",
    "        print(\"hi\")"
   ]
  },
  {
   "cell_type": "code",
   "execution_count": 40,
   "id": "5309f872",
   "metadata": {},
   "outputs": [
    {
     "name": "stdout",
     "output_type": "stream",
     "text": [
      "hello\n",
      "hi\n"
     ]
    }
   ],
   "source": [
    "if 10>0:\n",
    "    print(\"hello\")\n",
    "######################################\n",
    "print(\"hi\")"
   ]
  },
  {
   "cell_type": "code",
   "execution_count": 42,
   "id": "a7e0dd9d",
   "metadata": {},
   "outputs": [
    {
     "ename": "IndentationError",
     "evalue": "unexpected indent (1585860003.py, line 2)",
     "output_type": "error",
     "traceback": [
      "\u001b[1;36m  File \u001b[1;32m\"C:\\Users\\amitk\\AppData\\Local\\Temp\\ipykernel_11516\\1585860003.py\"\u001b[1;36m, line \u001b[1;32m2\u001b[0m\n\u001b[1;33m    b=20\u001b[0m\n\u001b[1;37m    ^\u001b[0m\n\u001b[1;31mIndentationError\u001b[0m\u001b[1;31m:\u001b[0m unexpected indent\n"
     ]
    }
   ],
   "source": [
    "a=10\n",
    " b=20\n"
   ]
  },
  {
   "cell_type": "code",
   "execution_count": 44,
   "id": "1fe6ada0",
   "metadata": {},
   "outputs": [
    {
     "name": "stdout",
     "output_type": "stream",
     "text": [
      "hello\n",
      "hai\n",
      "bye\n"
     ]
    }
   ],
   "source": [
    "print('hello')\n",
    "#---------------------------\n",
    "if True:\n",
    "    print(\"hai\")\n",
    "#----------------------------\n",
    "print(\"bye\")"
   ]
  },
  {
   "cell_type": "code",
   "execution_count": 45,
   "id": "0e2ef385",
   "metadata": {},
   "outputs": [
    {
     "name": "stdout",
     "output_type": "stream",
     "text": [
      "hello\n",
      "bye\n"
     ]
    }
   ],
   "source": [
    "print('hello')\n",
    "#---------------------------\n",
    "if False:\n",
    "    print(\"hai\")\n",
    "#----------------------------\n",
    "print(\"bye\")"
   ]
  },
  {
   "cell_type": "code",
   "execution_count": null,
   "id": "f79ea522",
   "metadata": {},
   "outputs": [],
   "source": [
    "print()"
   ]
  },
  {
   "cell_type": "code",
   "execution_count": 47,
   "id": "c010bdac",
   "metadata": {},
   "outputs": [
    {
     "name": "stdout",
     "output_type": "stream",
     "text": [
      "hello\n",
      "hai\n",
      "hey\n",
      "haa\n",
      "bye\n"
     ]
    }
   ],
   "source": [
    "print('hello')\n",
    "#---------------------------\n",
    "if True:\n",
    "    print(\"hai\")\n",
    "    print(\"hey\")\n",
    "#----------------------------\n",
    "    if True:\n",
    "        print(\"haa\")\n",
    "print(\"bye\")\n",
    "\n"
   ]
  },
  {
   "cell_type": "code",
   "execution_count": 48,
   "id": "7989ff33",
   "metadata": {},
   "outputs": [
    {
     "name": "stdout",
     "output_type": "stream",
     "text": [
      "hello\n",
      "bye\n"
     ]
    }
   ],
   "source": [
    "print('hello')\n",
    "#---------------------------\n",
    "if False:\n",
    "    print(\"hai\")\n",
    "    print(\"hey\")\n",
    "#----------------------------\n",
    "    if True:\n",
    "        print(\"haa\")\n",
    "#-------------------------\n",
    "print(\"bye\")\n"
   ]
  },
  {
   "cell_type": "code",
   "execution_count": 49,
   "id": "220b4d3b",
   "metadata": {},
   "outputs": [
    {
     "name": "stdout",
     "output_type": "stream",
     "text": [
      "hello\n",
      "bye\n"
     ]
    }
   ],
   "source": [
    "print('hello')\n",
    "#---------------------------\n",
    "if False:\n",
    "    print(\"hai\")\n",
    "    print(\"hey\")\n",
    "#----------------------------\n",
    "    if False:\n",
    "        print(\"haa\")\n",
    "#-------------------------\n",
    "print(\"bye\")\n"
   ]
  },
  {
   "cell_type": "code",
   "execution_count": 50,
   "id": "51089ce0",
   "metadata": {},
   "outputs": [
    {
     "name": "stdout",
     "output_type": "stream",
     "text": [
      "hello\n",
      "Amit\n",
      "Information Technology\n"
     ]
    }
   ],
   "source": [
    "if True:\n",
    "    print(\"hello\")\n",
    "    if True:\n",
    "        print(\"Amit\")\n",
    "        if True:\n",
    "            print(\"Information Technology\")"
   ]
  },
  {
   "cell_type": "markdown",
   "id": "f302a322",
   "metadata": {},
   "source": [
    "# if else"
   ]
  },
  {
   "cell_type": "code",
   "execution_count": 51,
   "id": "7aa007f1",
   "metadata": {},
   "outputs": [
    {
     "name": "stdout",
     "output_type": "stream",
     "text": [
      "hello\n"
     ]
    }
   ],
   "source": [
    "if True:\n",
    "    print(\"hello\")\n",
    "else:\n",
    "    print('bye')"
   ]
  },
  {
   "cell_type": "code",
   "execution_count": 52,
   "id": "6b23a529",
   "metadata": {},
   "outputs": [
    {
     "name": "stdout",
     "output_type": "stream",
     "text": [
      "bye\n"
     ]
    }
   ],
   "source": [
    "if False:\n",
    "    print(\"hello\")\n",
    "else:\n",
    "    print('bye')"
   ]
  },
  {
   "cell_type": "code",
   "execution_count": 53,
   "id": "e22f9b38",
   "metadata": {},
   "outputs": [
    {
     "name": "stdout",
     "output_type": "stream",
     "text": [
      "hello\n"
     ]
    }
   ],
   "source": [
    "if False==0:\n",
    "    print(\"hello\")\n",
    "else:\n",
    "    print('bye')"
   ]
  },
  {
   "cell_type": "code",
   "execution_count": 55,
   "id": "c4e9b3bd",
   "metadata": {},
   "outputs": [
    {
     "name": "stdout",
     "output_type": "stream",
     "text": [
      "bye\n"
     ]
    }
   ],
   "source": [
    "if False==1:\n",
    "    print(\"hello\")\n",
    "else:\n",
    "    print('bye')"
   ]
  },
  {
   "cell_type": "code",
   "execution_count": 58,
   "id": "e5555011",
   "metadata": {},
   "outputs": [
    {
     "name": "stdout",
     "output_type": "stream",
     "text": [
      "hi\n",
      "hello\n",
      "bye\n"
     ]
    }
   ],
   "source": [
    "print('hi')\n",
    "if True:\n",
    "    print(\"hello\")\n",
    "else:\n",
    "    print('hey')\n",
    "print('bye')"
   ]
  },
  {
   "cell_type": "code",
   "execution_count": 59,
   "id": "a160aa5b",
   "metadata": {},
   "outputs": [
    {
     "name": "stdout",
     "output_type": "stream",
     "text": [
      "hi\n",
      "hey\n",
      "bye\n"
     ]
    }
   ],
   "source": [
    "print('hi')\n",
    "if False:\n",
    "    print(\"hello\")\n",
    "else:\n",
    "    print('hey')\n",
    "print('bye')"
   ]
  },
  {
   "cell_type": "code",
   "execution_count": 61,
   "id": "f3ff7cb7",
   "metadata": {},
   "outputs": [
    {
     "ename": "SyntaxError",
     "evalue": "invalid syntax (3661907963.py, line 3)",
     "output_type": "error",
     "traceback": [
      "\u001b[1;36m  File \u001b[1;32m\"C:\\Users\\amitk\\AppData\\Local\\Temp\\ipykernel_11516\\3661907963.py\"\u001b[1;36m, line \u001b[1;32m3\u001b[0m\n\u001b[1;33m    print(\"hello\"):\u001b[0m\n\u001b[1;37m                   ^\u001b[0m\n\u001b[1;31mSyntaxError\u001b[0m\u001b[1;31m:\u001b[0m invalid syntax\n"
     ]
    }
   ],
   "source": [
    "print('hi')\n",
    "if False:\n",
    "    print(\"hello\")\n",
    "    print(\"why are in middle\")\n",
    "else:\n",
    "    print('hey')\n",
    "print('bye')"
   ]
  },
  {
   "cell_type": "code",
   "execution_count": 63,
   "id": "1d432113",
   "metadata": {},
   "outputs": [
    {
     "name": "stdout",
     "output_type": "stream",
     "text": [
      "hi\n",
      "hello\n",
      "1\n",
      "bye\n"
     ]
    }
   ],
   "source": [
    "print('hi')\n",
    "if True:\n",
    "    print(\"hello\")\n",
    "    if True:\n",
    "        print('1')\n",
    "    else:\n",
    "        print('no')\n",
    "else:\n",
    "    print('hey')\n",
    "print('bye')"
   ]
  },
  {
   "cell_type": "code",
   "execution_count": 64,
   "id": "568478c5",
   "metadata": {},
   "outputs": [
    {
     "name": "stdout",
     "output_type": "stream",
     "text": [
      "hello\n",
      "1\n",
      "Man\n"
     ]
    }
   ],
   "source": [
    "if True:\n",
    "    print(\"hello\")\n",
    "    if True:\n",
    "        print('1')\n",
    "        if True:\n",
    "            print(\"Man\")\n",
    "        else:\n",
    "            print(\"Go\")\n",
    "    else:\n",
    "        print('no')\n",
    "else:\n",
    "    print('hey')"
   ]
  },
  {
   "cell_type": "code",
   "execution_count": null,
   "id": "e1942934",
   "metadata": {},
   "outputs": [],
   "source": []
  }
 ],
 "metadata": {
  "kernelspec": {
   "display_name": "Python 3 (ipykernel)",
   "language": "python",
   "name": "python3"
  },
  "language_info": {
   "codemirror_mode": {
    "name": "ipython",
    "version": 3
   },
   "file_extension": ".py",
   "mimetype": "text/x-python",
   "name": "python",
   "nbconvert_exporter": "python",
   "pygments_lexer": "ipython3",
   "version": "3.9.13"
  }
 },
 "nbformat": 4,
 "nbformat_minor": 5
}
