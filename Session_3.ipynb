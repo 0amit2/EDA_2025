{
 "cells": [
  {
   "cell_type": "code",
   "execution_count": 1,
   "id": "5b34bb60",
   "metadata": {},
   "outputs": [
    {
     "name": "stdout",
     "output_type": "stream",
     "text": [
      "777\n"
     ]
    }
   ],
   "source": [
    "print(3*'7')"
   ]
  },
  {
   "cell_type": "code",
   "execution_count": 6,
   "id": "df182965",
   "metadata": {},
   "outputs": [
    {
     "name": "stdout",
     "output_type": "stream",
     "text": [
      "Amit\tAmit\tAmit\tAmit\tAmit\t\n"
     ]
    }
   ],
   "source": [
    "print(5*'Amit\\t')"
   ]
  },
  {
   "cell_type": "markdown",
   "id": "8860bc32",
   "metadata": {},
   "source": [
    "# Type cast\n",
    "\n",
    "- convert one datatype to another datatype"
   ]
  },
  {
   "cell_type": "code",
   "execution_count": 1,
   "id": "ff3e86b3",
   "metadata": {},
   "outputs": [
    {
     "data": {
      "text/plain": [
       "'100200'"
      ]
     },
     "execution_count": 1,
     "metadata": {},
     "output_type": "execute_result"
    }
   ],
   "source": [
    "n1='100'\n",
    "n2='200'\n",
    "n1+n2"
   ]
  },
  {
   "cell_type": "markdown",
   "id": "5173cd2e",
   "metadata": {},
   "source": [
    "## Case-1\n",
    "- int to float\n",
    "\n",
    "- int to str\n",
    "\n",
    "- int to bool"
   ]
  },
  {
   "cell_type": "code",
   "execution_count": 4,
   "id": "5a8b0090",
   "metadata": {},
   "outputs": [
    {
     "data": {
      "text/plain": [
       "(675.0, '675', True)"
      ]
     },
     "execution_count": 4,
     "metadata": {},
     "output_type": "execute_result"
    }
   ],
   "source": [
    "x=675\n",
    "float(x),str(x),bool(x)\n"
   ]
  },
  {
   "cell_type": "code",
   "execution_count": 9,
   "id": "3e34e83f",
   "metadata": {},
   "outputs": [
    {
     "data": {
      "text/plain": [
       "True"
      ]
     },
     "execution_count": 9,
     "metadata": {},
     "output_type": "execute_result"
    }
   ],
   "source": [
    "x=18\n",
    "bool(x)"
   ]
  },
  {
   "cell_type": "code",
   "execution_count": 6,
   "id": "b6ed9e9e",
   "metadata": {},
   "outputs": [
    {
     "data": {
      "text/plain": [
       "(-675.0, '-675', True)"
      ]
     },
     "execution_count": 6,
     "metadata": {},
     "output_type": "execute_result"
    }
   ],
   "source": [
    "x=-675\n",
    "float(x),str(x),bool(x)"
   ]
  },
  {
   "cell_type": "code",
   "execution_count": 10,
   "id": "0db3d93e",
   "metadata": {},
   "outputs": [
    {
     "data": {
      "text/plain": [
       "(10.0, '10', True)"
      ]
     },
     "execution_count": 10,
     "metadata": {},
     "output_type": "execute_result"
    }
   ],
   "source": [
    "float(10),str(10),bool(10)"
   ]
  },
  {
   "cell_type": "code",
   "execution_count": 11,
   "id": "4a995491",
   "metadata": {},
   "outputs": [
    {
     "data": {
      "text/plain": [
       "(-10.0, '-10', True)"
      ]
     },
     "execution_count": 11,
     "metadata": {},
     "output_type": "execute_result"
    }
   ],
   "source": [
    "float(-10),str(-10),bool(-10)"
   ]
  },
  {
   "cell_type": "code",
   "execution_count": 12,
   "id": "4feb76d2",
   "metadata": {},
   "outputs": [
    {
     "data": {
      "text/plain": [
       "(0.0, '0', False)"
      ]
     },
     "execution_count": 12,
     "metadata": {},
     "output_type": "execute_result"
    }
   ],
   "source": [
    "float(0),str(0),bool(0)"
   ]
  },
  {
   "cell_type": "markdown",
   "id": "6c1bd8a1",
   "metadata": {},
   "source": [
    "**Float to other**"
   ]
  },
  {
   "cell_type": "code",
   "execution_count": 14,
   "id": "50224cd9",
   "metadata": {},
   "outputs": [
    {
     "data": {
      "text/plain": [
       "(10, '10.5', True)"
      ]
     },
     "execution_count": 14,
     "metadata": {},
     "output_type": "execute_result"
    }
   ],
   "source": [
    "num1=10.5\n",
    "int(num1),str(num1),bool(num1)"
   ]
  },
  {
   "cell_type": "code",
   "execution_count": 15,
   "id": "7338b94a",
   "metadata": {},
   "outputs": [
    {
     "name": "stdout",
     "output_type": "stream",
     "text": [
      "10.5\n"
     ]
    }
   ],
   "source": [
    "print(str(num1))"
   ]
  },
  {
   "cell_type": "code",
   "execution_count": 16,
   "id": "ec36dc8c",
   "metadata": {},
   "outputs": [
    {
     "data": {
      "text/plain": [
       "(-10, '-10.5', True)"
      ]
     },
     "execution_count": 16,
     "metadata": {},
     "output_type": "execute_result"
    }
   ],
   "source": [
    "num1=-10.5\n",
    "int(num1),str(num1),bool(num1)"
   ]
  },
  {
   "cell_type": "code",
   "execution_count": 17,
   "id": "33904ad3",
   "metadata": {},
   "outputs": [
    {
     "data": {
      "text/plain": [
       "(0, '0.0', False)"
      ]
     },
     "execution_count": 17,
     "metadata": {},
     "output_type": "execute_result"
    }
   ],
   "source": [
    "num1=0.0\n",
    "int(num1),str(num1),bool(num1)"
   ]
  },
  {
   "cell_type": "code",
   "execution_count": 18,
   "id": "f3a20bcf",
   "metadata": {},
   "outputs": [
    {
     "data": {
      "text/plain": [
       "(0, '1e-12', True)"
      ]
     },
     "execution_count": 18,
     "metadata": {},
     "output_type": "execute_result"
    }
   ],
   "source": [
    "num1=0.000000000001\n",
    "int(num1),str(num1),bool(num1)"
   ]
  },
  {
   "cell_type": "markdown",
   "id": "824c60be",
   "metadata": {},
   "source": [
    "## string to other"
   ]
  },
  {
   "cell_type": "code",
   "execution_count": 19,
   "id": "d4a5704c",
   "metadata": {},
   "outputs": [],
   "source": [
    "s1='10'\n",
    "s2='10.5'\n",
    "s3='apple'"
   ]
  },
  {
   "cell_type": "code",
   "execution_count": 22,
   "id": "00001175",
   "metadata": {},
   "outputs": [
    {
     "data": {
      "text/plain": [
       "(10, 10.0, True)"
      ]
     },
     "execution_count": 22,
     "metadata": {},
     "output_type": "execute_result"
    }
   ],
   "source": [
    "int(s1),float(s1),bool(s1)"
   ]
  },
  {
   "cell_type": "code",
   "execution_count": 23,
   "id": "2f68f590",
   "metadata": {},
   "outputs": [
    {
     "ename": "ValueError",
     "evalue": "invalid literal for int() with base 10: '10.5'",
     "output_type": "error",
     "traceback": [
      "\u001b[1;31m---------------------------------------------------------------------------\u001b[0m",
      "\u001b[1;31mValueError\u001b[0m                                Traceback (most recent call last)",
      "\u001b[1;32m~\\AppData\\Local\\Temp\\ipykernel_20132\\2974304963.py\u001b[0m in \u001b[0;36m<module>\u001b[1;34m\u001b[0m\n\u001b[1;32m----> 1\u001b[1;33m \u001b[0mint\u001b[0m\u001b[1;33m(\u001b[0m\u001b[0ms2\u001b[0m\u001b[1;33m)\u001b[0m\u001b[1;33m,\u001b[0m\u001b[0mfloat\u001b[0m\u001b[1;33m(\u001b[0m\u001b[0ms2\u001b[0m\u001b[1;33m)\u001b[0m\u001b[1;33m,\u001b[0m\u001b[0mbool\u001b[0m\u001b[1;33m(\u001b[0m\u001b[0ms2\u001b[0m\u001b[1;33m)\u001b[0m\u001b[1;33m\u001b[0m\u001b[1;33m\u001b[0m\u001b[0m\n\u001b[0m",
      "\u001b[1;31mValueError\u001b[0m: invalid literal for int() with base 10: '10.5'"
     ]
    }
   ],
   "source": [
    "int(s2),float(s2),bool(s2)"
   ]
  },
  {
   "cell_type": "code",
   "execution_count": 24,
   "id": "571c590e",
   "metadata": {},
   "outputs": [
    {
     "ename": "ValueError",
     "evalue": "invalid literal for int() with base 10: 'apple'",
     "output_type": "error",
     "traceback": [
      "\u001b[1;31m---------------------------------------------------------------------------\u001b[0m",
      "\u001b[1;31mValueError\u001b[0m                                Traceback (most recent call last)",
      "\u001b[1;32m~\\AppData\\Local\\Temp\\ipykernel_20132\\4029225469.py\u001b[0m in \u001b[0;36m<module>\u001b[1;34m\u001b[0m\n\u001b[1;32m----> 1\u001b[1;33m \u001b[0mint\u001b[0m\u001b[1;33m(\u001b[0m\u001b[0ms3\u001b[0m\u001b[1;33m)\u001b[0m\u001b[1;33m,\u001b[0m\u001b[0mfloat\u001b[0m\u001b[1;33m(\u001b[0m\u001b[0ms3\u001b[0m\u001b[1;33m)\u001b[0m\u001b[1;33m,\u001b[0m\u001b[0mbool\u001b[0m\u001b[1;33m(\u001b[0m\u001b[0ms3\u001b[0m\u001b[1;33m)\u001b[0m\u001b[1;33m\u001b[0m\u001b[1;33m\u001b[0m\u001b[0m\n\u001b[0m",
      "\u001b[1;31mValueError\u001b[0m: invalid literal for int() with base 10: 'apple'"
     ]
    }
   ],
   "source": [
    "int(s3),float(s3),bool(s3)"
   ]
  },
  {
   "cell_type": "code",
   "execution_count": 25,
   "id": "99a26413",
   "metadata": {},
   "outputs": [
    {
     "data": {
      "text/plain": [
       "True"
      ]
     },
     "execution_count": 25,
     "metadata": {},
     "output_type": "execute_result"
    }
   ],
   "source": [
    "bool(s3)"
   ]
  },
  {
   "cell_type": "code",
   "execution_count": 26,
   "id": "4a23b287",
   "metadata": {},
   "outputs": [
    {
     "ename": "ValueError",
     "evalue": "could not convert string to float: 'apple'",
     "output_type": "error",
     "traceback": [
      "\u001b[1;31m---------------------------------------------------------------------------\u001b[0m",
      "\u001b[1;31mValueError\u001b[0m                                Traceback (most recent call last)",
      "\u001b[1;32m~\\AppData\\Local\\Temp\\ipykernel_20132\\2806650970.py\u001b[0m in \u001b[0;36m<module>\u001b[1;34m\u001b[0m\n\u001b[1;32m----> 1\u001b[1;33m \u001b[0mfloat\u001b[0m\u001b[1;33m(\u001b[0m\u001b[0ms3\u001b[0m\u001b[1;33m)\u001b[0m\u001b[1;33m\u001b[0m\u001b[1;33m\u001b[0m\u001b[0m\n\u001b[0m",
      "\u001b[1;31mValueError\u001b[0m: could not convert string to float: 'apple'"
     ]
    }
   ],
   "source": [
    "float(s3)"
   ]
  },
  {
   "cell_type": "code",
   "execution_count": 27,
   "id": "3f54c909",
   "metadata": {},
   "outputs": [
    {
     "ename": "ValueError",
     "evalue": "invalid literal for int() with base 10: 'apple'",
     "output_type": "error",
     "traceback": [
      "\u001b[1;31m---------------------------------------------------------------------------\u001b[0m",
      "\u001b[1;31mValueError\u001b[0m                                Traceback (most recent call last)",
      "\u001b[1;32m~\\AppData\\Local\\Temp\\ipykernel_20132\\3150507651.py\u001b[0m in \u001b[0;36m<module>\u001b[1;34m\u001b[0m\n\u001b[1;32m----> 1\u001b[1;33m \u001b[0mint\u001b[0m\u001b[1;33m(\u001b[0m\u001b[0ms3\u001b[0m\u001b[1;33m)\u001b[0m\u001b[1;33m\u001b[0m\u001b[1;33m\u001b[0m\u001b[0m\n\u001b[0m",
      "\u001b[1;31mValueError\u001b[0m: invalid literal for int() with base 10: 'apple'"
     ]
    }
   ],
   "source": [
    "int(s3)"
   ]
  },
  {
   "cell_type": "code",
   "execution_count": 28,
   "id": "0e02956a",
   "metadata": {},
   "outputs": [
    {
     "name": "stdout",
     "output_type": "stream",
     "text": [
      "10\n",
      "20\n"
     ]
    },
    {
     "ename": "NameError",
     "evalue": "name 'lenvo' is not defined",
     "output_type": "error",
     "traceback": [
      "\u001b[1;31m---------------------------------------------------------------------------\u001b[0m",
      "\u001b[1;31mNameError\u001b[0m                                 Traceback (most recent call last)",
      "\u001b[1;32m~\\AppData\\Local\\Temp\\ipykernel_20132\\3966935224.py\u001b[0m in \u001b[0;36m<module>\u001b[1;34m\u001b[0m\n\u001b[0;32m      4\u001b[0m \u001b[0mprint\u001b[0m\u001b[1;33m(\u001b[0m\u001b[0mn2\u001b[0m\u001b[1;33m)\u001b[0m\u001b[1;33m\u001b[0m\u001b[1;33m\u001b[0m\u001b[0m\n\u001b[0;32m      5\u001b[0m \u001b[0mn4\u001b[0m\u001b[1;33m=\u001b[0m\u001b[1;36m100\u001b[0m\u001b[1;33m\u001b[0m\u001b[1;33m\u001b[0m\u001b[0m\n\u001b[1;32m----> 6\u001b[1;33m \u001b[0mn3\u001b[0m\u001b[1;33m=\u001b[0m\u001b[0mlenvo\u001b[0m\u001b[1;33m\u001b[0m\u001b[1;33m\u001b[0m\u001b[0m\n\u001b[0m\u001b[0;32m      7\u001b[0m \u001b[0mn4\u001b[0m\u001b[1;33m=\u001b[0m\u001b[1;36m100\u001b[0m\u001b[1;33m\u001b[0m\u001b[1;33m\u001b[0m\u001b[0m\n\u001b[0;32m      8\u001b[0m \u001b[0mn5\u001b[0m\u001b[1;33m=\u001b[0m\u001b[1;36m600\u001b[0m\u001b[1;33m\u001b[0m\u001b[1;33m\u001b[0m\u001b[0m\n",
      "\u001b[1;31mNameError\u001b[0m: name 'lenvo' is not defined"
     ]
    }
   ],
   "source": [
    "n1=10\n",
    "print(n1)\n",
    "n2=20\n",
    "print(n2)\n",
    "n4=100\n",
    "print()\n",
    "n3=lenvo\n",
    "print()\n",
    "n4=100\n",
    "n5=600"
   ]
  },
  {
   "cell_type": "code",
   "execution_count": 29,
   "id": "7927d68f",
   "metadata": {},
   "outputs": [
    {
     "data": {
      "text/plain": [
       "10.5"
      ]
     },
     "execution_count": 29,
     "metadata": {},
     "output_type": "execute_result"
    }
   ],
   "source": [
    "float('10.5')"
   ]
  },
  {
   "cell_type": "code",
   "execution_count": 30,
   "id": "b12a472b",
   "metadata": {},
   "outputs": [
    {
     "ename": "ValueError",
     "evalue": "invalid literal for int() with base 10: '10.5'",
     "output_type": "error",
     "traceback": [
      "\u001b[1;31m---------------------------------------------------------------------------\u001b[0m",
      "\u001b[1;31mValueError\u001b[0m                                Traceback (most recent call last)",
      "\u001b[1;32m~\\AppData\\Local\\Temp\\ipykernel_20132\\48083598.py\u001b[0m in \u001b[0;36m<module>\u001b[1;34m\u001b[0m\n\u001b[1;32m----> 1\u001b[1;33m \u001b[0mint\u001b[0m\u001b[1;33m(\u001b[0m\u001b[1;34m'10.5'\u001b[0m\u001b[1;33m)\u001b[0m\u001b[1;33m\u001b[0m\u001b[1;33m\u001b[0m\u001b[0m\n\u001b[0m\u001b[0;32m      2\u001b[0m \u001b[0mint\u001b[0m\u001b[1;33m(\u001b[0m\u001b[1;34m'10'\u001b[0m\u001b[1;33m)\u001b[0m\u001b[1;33m\u001b[0m\u001b[1;33m\u001b[0m\u001b[0m\n",
      "\u001b[1;31mValueError\u001b[0m: invalid literal for int() with base 10: '10.5'"
     ]
    }
   ],
   "source": [
    "int('10.5')\n",
    "int('10')"
   ]
  },
  {
   "cell_type": "code",
   "execution_count": 31,
   "id": "ceafce04",
   "metadata": {},
   "outputs": [
    {
     "data": {
      "text/plain": [
       "(10.5, 10)"
      ]
     },
     "execution_count": 31,
     "metadata": {},
     "output_type": "execute_result"
    }
   ],
   "source": [
    "float('10.5'),int('10')"
   ]
  },
  {
   "cell_type": "code",
   "execution_count": 33,
   "id": "6d0bbcaf",
   "metadata": {},
   "outputs": [
    {
     "data": {
      "text/plain": [
       "10"
      ]
     },
     "execution_count": 33,
     "metadata": {},
     "output_type": "execute_result"
    }
   ],
   "source": [
    "int(10)  # 10\n",
    "int(10.5) #10.5\n",
    "int('10')  #10\n",
    "int('10.5') # Error\n",
    "float(10)   #10.0\n",
    "float(10.5)\n",
    "float('10')\n",
    "float('10.5')"
   ]
  },
  {
   "cell_type": "code",
   "execution_count": 35,
   "id": "0ed22443",
   "metadata": {},
   "outputs": [
    {
     "data": {
      "text/plain": [
       "(0, 0.0, True)"
      ]
     },
     "execution_count": 35,
     "metadata": {},
     "output_type": "execute_result"
    }
   ],
   "source": [
    "int('0'),float('0'),bool('0')"
   ]
  },
  {
   "cell_type": "code",
   "execution_count": 38,
   "id": "e2667a87",
   "metadata": {},
   "outputs": [
    {
     "data": {
      "text/plain": [
       "(1, 0, 5, 0)"
      ]
     },
     "execution_count": 38,
     "metadata": {},
     "output_type": "execute_result"
    }
   ],
   "source": [
    "len('0'),len(''),len('APPLE'),len('')"
   ]
  },
  {
   "cell_type": "code",
   "execution_count": 40,
   "id": "4290e433",
   "metadata": {},
   "outputs": [
    {
     "data": {
      "text/plain": [
       "(0.0, True)"
      ]
     },
     "execution_count": 40,
     "metadata": {},
     "output_type": "execute_result"
    }
   ],
   "source": [
    "# int('0.0')\n",
    "float('0.0'),bool('0.0')"
   ]
  },
  {
   "cell_type": "code",
   "execution_count": 42,
   "id": "4bf125f6",
   "metadata": {},
   "outputs": [
    {
     "data": {
      "text/plain": [
       "4"
      ]
     },
     "execution_count": 42,
     "metadata": {},
     "output_type": "execute_result"
    }
   ],
   "source": [
    "len('0.00')"
   ]
  },
  {
   "cell_type": "code",
   "execution_count": 43,
   "id": "3a32935e",
   "metadata": {},
   "outputs": [
    {
     "ename": "ValueError",
     "evalue": "could not convert string to float: 'apple'",
     "output_type": "error",
     "traceback": [
      "\u001b[1;31m---------------------------------------------------------------------------\u001b[0m",
      "\u001b[1;31mValueError\u001b[0m                                Traceback (most recent call last)",
      "\u001b[1;32m~\\AppData\\Local\\Temp\\ipykernel_20132\\1446824945.py\u001b[0m in \u001b[0;36m<module>\u001b[1;34m\u001b[0m\n\u001b[1;32m----> 1\u001b[1;33m \u001b[0mfloat\u001b[0m\u001b[1;33m(\u001b[0m\u001b[1;34m'apple'\u001b[0m\u001b[1;33m)\u001b[0m\u001b[1;33m\u001b[0m\u001b[1;33m\u001b[0m\u001b[0m\n\u001b[0m\u001b[0;32m      2\u001b[0m \u001b[0mint\u001b[0m\u001b[1;33m(\u001b[0m\u001b[1;34m'apple'\u001b[0m\u001b[1;33m)\u001b[0m\u001b[1;33m\u001b[0m\u001b[1;33m\u001b[0m\u001b[0m\n\u001b[0;32m      3\u001b[0m \u001b[0mbool\u001b[0m\u001b[1;33m(\u001b[0m\u001b[1;34m'apple'\u001b[0m\u001b[1;33m)\u001b[0m\u001b[1;33m\u001b[0m\u001b[1;33m\u001b[0m\u001b[0m\n",
      "\u001b[1;31mValueError\u001b[0m: could not convert string to float: 'apple'"
     ]
    }
   ],
   "source": [
    "float('apple') # error\n",
    "int('apple')    # error\n",
    "bool('apple')  # True"
   ]
  },
  {
   "cell_type": "code",
   "execution_count": 44,
   "id": "b6aeab33",
   "metadata": {},
   "outputs": [
    {
     "data": {
      "text/plain": [
       "(1, 1.0, 'True')"
      ]
     },
     "execution_count": 44,
     "metadata": {},
     "output_type": "execute_result"
    }
   ],
   "source": [
    "int(True),float(True),str(True)"
   ]
  },
  {
   "cell_type": "code",
   "execution_count": 45,
   "id": "c226122a",
   "metadata": {},
   "outputs": [
    {
     "data": {
      "text/plain": [
       "(0, 0.0, 'False')"
      ]
     },
     "execution_count": 45,
     "metadata": {},
     "output_type": "execute_result"
    }
   ],
   "source": [
    "int(False),float(False),str(False)"
   ]
  },
  {
   "cell_type": "code",
   "execution_count": 46,
   "id": "8895ed59",
   "metadata": {},
   "outputs": [
    {
     "data": {
      "text/plain": [
       "10"
      ]
     },
     "execution_count": 46,
     "metadata": {},
     "output_type": "execute_result"
    }
   ],
   "source": [
    "int(float('10.5')) # str--> int"
   ]
  },
  {
   "cell_type": "code",
   "execution_count": 47,
   "id": "bb328aa0",
   "metadata": {},
   "outputs": [
    {
     "ename": "ValueError",
     "evalue": "invalid literal for int() with base 10: '10.5'",
     "output_type": "error",
     "traceback": [
      "\u001b[1;31m---------------------------------------------------------------------------\u001b[0m",
      "\u001b[1;31mValueError\u001b[0m                                Traceback (most recent call last)",
      "\u001b[1;32m~\\AppData\\Local\\Temp\\ipykernel_20132\\4169780136.py\u001b[0m in \u001b[0;36m<module>\u001b[1;34m\u001b[0m\n\u001b[1;32m----> 1\u001b[1;33m \u001b[0mint\u001b[0m\u001b[1;33m(\u001b[0m\u001b[1;34m'10.5'\u001b[0m\u001b[1;33m)\u001b[0m\u001b[1;33m\u001b[0m\u001b[1;33m\u001b[0m\u001b[0m\n\u001b[0m",
      "\u001b[1;31mValueError\u001b[0m: invalid literal for int() with base 10: '10.5'"
     ]
    }
   ],
   "source": [
    "int('10.5') #error"
   ]
  },
  {
   "cell_type": "code",
   "execution_count": 50,
   "id": "d3d6e000",
   "metadata": {},
   "outputs": [
    {
     "data": {
      "text/plain": [
       "300"
      ]
     },
     "execution_count": 50,
     "metadata": {},
     "output_type": "execute_result"
    }
   ],
   "source": [
    "n1='100'\n",
    "n2='200'\n",
    "n1=int(n1)\n",
    "n2=int(n2)\n",
    "n1+n2\n"
   ]
  },
  {
   "cell_type": "code",
   "execution_count": 52,
   "id": "6198df1e",
   "metadata": {},
   "outputs": [
    {
     "data": {
      "text/plain": [
       "300"
      ]
     },
     "execution_count": 52,
     "metadata": {},
     "output_type": "execute_result"
    }
   ],
   "source": [
    "n1='100'\n",
    "n2='200'\n",
    "int(n1)+int(n2)"
   ]
  },
  {
   "cell_type": "code",
   "execution_count": 54,
   "id": "f53c664d",
   "metadata": {},
   "outputs": [
    {
     "data": {
      "text/plain": [
       "300.5"
      ]
     },
     "execution_count": 54,
     "metadata": {},
     "output_type": "execute_result"
    }
   ],
   "source": [
    "n1=float('100.5')\n",
    "n2=int( '200')\n",
    "n1+n2"
   ]
  },
  {
   "cell_type": "markdown",
   "id": "5f02f46e",
   "metadata": {},
   "source": [
    "## eval"
   ]
  },
  {
   "cell_type": "code",
   "execution_count": 57,
   "id": "832e6f69",
   "metadata": {},
   "outputs": [
    {
     "data": {
      "text/plain": [
       "300.5"
      ]
     },
     "execution_count": 57,
     "metadata": {},
     "output_type": "execute_result"
    }
   ],
   "source": [
    "n1=eval('100.5')\n",
    "n2=eval( '200')\n",
    "n1+n2\n",
    "# eval(n1+n2)"
   ]
  },
  {
   "cell_type": "code",
   "execution_count": null,
   "id": "b33a2e09",
   "metadata": {},
   "outputs": [],
   "source": []
  }
 ],
 "metadata": {
  "kernelspec": {
   "display_name": "Python 3 (ipykernel)",
   "language": "python",
   "name": "python3"
  },
  "language_info": {
   "codemirror_mode": {
    "name": "ipython",
    "version": 3
   },
   "file_extension": ".py",
   "mimetype": "text/x-python",
   "name": "python",
   "nbconvert_exporter": "python",
   "pygments_lexer": "ipython3",
   "version": "3.9.13"
  }
 },
 "nbformat": 4,
 "nbformat_minor": 5
}
