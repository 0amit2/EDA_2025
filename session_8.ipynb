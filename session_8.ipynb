{
 "cells": [
  {
   "cell_type": "code",
   "execution_count": 4,
   "id": "c0d81161",
   "metadata": {},
   "outputs": [
    {
     "name": "stdout",
     "output_type": "stream",
     "text": [
      "enter a number-8\n",
      "-8 is a Negative\n"
     ]
    }
   ],
   "source": [
    "num=eval(input(\"enter a number\"))\n",
    "if num>0:\n",
    "    print(f\"{num} is a positive\")\n",
    "else:\n",
    "    print(f\"{num} is a Negative\")"
   ]
  },
  {
   "cell_type": "code",
   "execution_count": 15,
   "id": "04bbc6ce",
   "metadata": {},
   "outputs": [
    {
     "name": "stdout",
     "output_type": "stream",
     "text": [
      "-23 is a Negative\n"
     ]
    }
   ],
   "source": [
    "import random\n",
    "num=random.randint(-100,100)\n",
    "# print(num)\n",
    "if num>0:\n",
    "    print(f\"{num} is a positive\")\n",
    "else:\n",
    "    print(f\"{num} is a Negative\")"
   ]
  },
  {
   "cell_type": "code",
   "execution_count": 22,
   "id": "89e5914c",
   "metadata": {},
   "outputs": [
    {
     "name": "stdout",
     "output_type": "stream",
     "text": [
      "enter a number: 0\n",
      "0 is zero\n"
     ]
    }
   ],
   "source": [
    "num=eval(input(\"enter a number: \"))\n",
    "if num>=0:\n",
    "    if num==0:\n",
    "        print(f\"{num} is zero\")\n",
    "    else:\n",
    "        print(f\"{num} is a positive\")\n",
    "        \n",
    "else:\n",
    "    print(f\"{num} is a negative\")"
   ]
  },
  {
   "cell_type": "markdown",
   "id": "f1f86fdd",
   "metadata": {},
   "source": [
    "# "
   ]
  },
  {
   "cell_type": "code",
   "execution_count": 24,
   "id": "fbe60770",
   "metadata": {},
   "outputs": [
    {
     "name": "stdout",
     "output_type": "stream",
     "text": [
      "enter first number: 5\n",
      "enter second number: 5\n",
      "5 is greatest number \n"
     ]
    }
   ],
   "source": [
    "n1=eval(input(\"enter first number: \"))\n",
    "n2=eval(input(\"enter second number: \"))\n",
    "if n1>n2:\n",
    "    print(f\"{n1} is greatest number \")\n",
    "else:\n",
    "    print(f\"{n2} is greatest number \")"
   ]
  },
  {
   "cell_type": "code",
   "execution_count": 35,
   "id": "6fcfca28",
   "metadata": {},
   "outputs": [
    {
     "name": "stdout",
     "output_type": "stream",
     "text": [
      "-79 19\n",
      "19 is greatest number \n"
     ]
    }
   ],
   "source": [
    "import random\n",
    "num1=random.randint(-100,100)\n",
    "num2=random.randint(-100,100)\n",
    "print(num1,num2)\n",
    "if num1>num2:\n",
    "    print(f\"{num1} is greatest number \")\n",
    "else:\n",
    "    print(f\"{num2} is greatest number \")"
   ]
  },
  {
   "cell_type": "code",
   "execution_count": 51,
   "id": "16ffc014",
   "metadata": {},
   "outputs": [
    {
     "name": "stdout",
     "output_type": "stream",
     "text": [
      "enter number: 5\n",
      "4\n",
      "lost\n"
     ]
    }
   ],
   "source": [
    "user_num=eval(input(\"enter number: \"))\n",
    "import random\n",
    "random_num=random.randint(1,10)\n",
    "print(random_num)\n",
    "if user_num==random_num:\n",
    "    print(\"Won\")\n",
    "else:\n",
    "    print(\"lost\")"
   ]
  },
  {
   "cell_type": "code",
   "execution_count": 54,
   "id": "c21a75ec",
   "metadata": {},
   "outputs": [
    {
     "name": "stdout",
     "output_type": "stream",
     "text": [
      "enter distance in km: 7\n",
      "enjoy free ride\n"
     ]
    }
   ],
   "source": [
    "distance=eval(input(\"enter distance in km: \"))\n",
    "if distance>25:\n",
    "    remaining_distance=distance-25\n",
    "    charge_per_km=eval(input(\"enter charge per km: \"))\n",
    "    total_charge=remaining_distance*charge_per_km\n",
    "    print(f\"total charge is {total_charge}\")    \n",
    "else:\n",
    "    print(\"enjoy free ride\")"
   ]
  },
  {
   "cell_type": "code",
   "execution_count": 55,
   "id": "29d4daaa",
   "metadata": {},
   "outputs": [
    {
     "data": {
      "text/plain": [
       "55.5"
      ]
     },
     "execution_count": 55,
     "metadata": {},
     "output_type": "execute_result"
    }
   ],
   "source": [
    "111/2"
   ]
  },
  {
   "cell_type": "code",
   "execution_count": 56,
   "id": "d1fee812",
   "metadata": {},
   "outputs": [
    {
     "data": {
      "text/plain": [
       "74"
      ]
     },
     "execution_count": 56,
     "metadata": {},
     "output_type": "execute_result"
    }
   ],
   "source": [
    "222//3"
   ]
  },
  {
   "cell_type": "code",
   "execution_count": 57,
   "id": "c7abf5c1",
   "metadata": {},
   "outputs": [
    {
     "data": {
      "text/plain": [
       "2"
      ]
     },
     "execution_count": 57,
     "metadata": {},
     "output_type": "execute_result"
    }
   ],
   "source": [
    "23%3"
   ]
  },
  {
   "cell_type": "code",
   "execution_count": 58,
   "id": "3fe7e64b",
   "metadata": {},
   "outputs": [
    {
     "name": "stdout",
     "output_type": "stream",
     "text": [
      "enter number: 10\n",
      "10 is even\n"
     ]
    }
   ],
   "source": [
    "num=eval(input(\"enter number: \"))\n",
    "if num%2==0:\n",
    "    print(f\"{num} is even\")\n",
    "else:\n",
    "    print(f\"{num} is odd\")"
   ]
  },
  {
   "cell_type": "code",
   "execution_count": null,
   "id": "fba8b05f",
   "metadata": {},
   "outputs": [],
   "source": []
  }
 ],
 "metadata": {
  "kernelspec": {
   "display_name": "Python 3 (ipykernel)",
   "language": "python",
   "name": "python3"
  },
  "language_info": {
   "codemirror_mode": {
    "name": "ipython",
    "version": 3
   },
   "file_extension": ".py",
   "mimetype": "text/x-python",
   "name": "python",
   "nbconvert_exporter": "python",
   "pygments_lexer": "ipython3",
   "version": "3.9.13"
  }
 },
 "nbformat": 4,
 "nbformat_minor": 5
}
