{
 "cells": [
  {
   "cell_type": "code",
   "execution_count": 1,
   "id": "a51722e1",
   "metadata": {},
   "outputs": [],
   "source": [
    "import os"
   ]
  },
  {
   "cell_type": "code",
   "execution_count": 2,
   "id": "19a84a1a",
   "metadata": {},
   "outputs": [
    {
     "data": {
      "text/plain": [
       "'C:\\\\Users\\\\amitk\\\\Documents\\\\Naresh IT\\\\Python'"
      ]
     },
     "execution_count": 2,
     "metadata": {},
     "output_type": "execute_result"
    }
   ],
   "source": [
    "os.getcwd()"
   ]
  },
  {
   "cell_type": "code",
   "execution_count": 3,
   "id": "f6692432",
   "metadata": {},
   "outputs": [
    {
     "name": "stdout",
     "output_type": "stream",
     "text": [
      "10\n",
      "20\n"
     ]
    }
   ],
   "source": [
    "a=10\n",
    "b=20\n",
    "print(a)\n",
    "print(b)"
   ]
  },
  {
   "cell_type": "code",
   "execution_count": 5,
   "id": "1bbf7087",
   "metadata": {},
   "outputs": [
    {
     "name": "stdout",
     "output_type": "stream",
     "text": [
      "10 20\n"
     ]
    }
   ],
   "source": [
    "a=10\n",
    "b=20\n",
    "a,b\n",
    "print(a,b)"
   ]
  },
  {
   "cell_type": "code",
   "execution_count": 11,
   "id": "ece3c9e2",
   "metadata": {},
   "outputs": [
    {
     "name": "stdout",
     "output_type": "stream",
     "text": [
      "Sum of 10 and 20 is 30\n"
     ]
    }
   ],
   "source": [
    "a=10\n",
    "b=20\n",
    "c=a+b\n",
    "print(\"Sum of 10 and 20 is\",c)"
   ]
  },
  {
   "cell_type": "code",
   "execution_count": 12,
   "id": "465ca45b",
   "metadata": {},
   "outputs": [
    {
     "name": "stdout",
     "output_type": "stream",
     "text": [
      "Sum of a and b is 30\n"
     ]
    }
   ],
   "source": [
    "a=10\n",
    "b=20\n",
    "c=a+b\n",
    "print(\"Sum of a and b is\",c)"
   ]
  },
  {
   "cell_type": "code",
   "execution_count": 18,
   "id": "dc3fb5a3",
   "metadata": {},
   "outputs": [
    {
     "name": "stdout",
     "output_type": "stream",
     "text": [
      "Sum of 10 and 20 is: 30\n"
     ]
    }
   ],
   "source": [
    "a=10\n",
    "b=20\n",
    "c=a+b\n",
    "print(f\"Sum of {a} and {b} is: {c}\")"
   ]
  },
  {
   "cell_type": "code",
   "execution_count": 19,
   "id": "d4d4c753",
   "metadata": {},
   "outputs": [
    {
     "name": "stdout",
     "output_type": "stream",
     "text": [
      "Sum of 10 and 20 is: 30\n"
     ]
    }
   ],
   "source": [
    "a=10\n",
    "b=20\n",
    "c=a+b\n",
    "print(\"Sum of\",a,\"and\",b,\"is:\",c)"
   ]
  },
  {
   "cell_type": "code",
   "execution_count": 20,
   "id": "ee8bfe96",
   "metadata": {},
   "outputs": [
    {
     "name": "stdout",
     "output_type": "stream",
     "text": [
      "my name is python im 10 year old came from hyd\n"
     ]
    }
   ],
   "source": [
    "name=\"python\"\n",
    "age=10\n",
    "city='hyd'\n",
    "print(\"my name is\",name, \"im\",age,\"year old came from\",city)"
   ]
  },
  {
   "cell_type": "markdown",
   "id": "7361a52f",
   "metadata": {},
   "source": [
    "**Method-2:format**"
   ]
  },
  {
   "cell_type": "code",
   "execution_count": 22,
   "id": "a9253b0e",
   "metadata": {},
   "outputs": [
    {
     "name": "stdout",
     "output_type": "stream",
     "text": [
      "sum of 10 and 20 is 30\n",
      "sum of 10 and 20 is 30\n",
      "sum of 10 and 20 is 30\n"
     ]
    }
   ],
   "source": [
    "a=10\n",
    "b=20\n",
    "c=a+b\n",
    "print(\"sum of 10 and 20 is 30\")\n",
    "print(f\"sum of {a} and {b} is {c}\")\n",
    "print(\"sum of {} and {} is {}\".format(a,b,c))"
   ]
  },
  {
   "cell_type": "markdown",
   "id": "ac74c254",
   "metadata": {},
   "source": [
    "## Method 3: fstring"
   ]
  },
  {
   "cell_type": "code",
   "execution_count": 23,
   "id": "593b4bb8",
   "metadata": {},
   "outputs": [
    {
     "name": "stdout",
     "output_type": "stream",
     "text": [
      "sum of 10 and 20 is 30\n",
      "sum of {a} and {b} is {c}\n",
      "sum of 10 and 20 is 30\n"
     ]
    }
   ],
   "source": [
    "a=10\n",
    "b=20\n",
    "c=a+b\n",
    "print(\"sum of 10 and 20 is 30\")\n",
    "print(\"sum of {a} and {b} is {c}\")\n",
    "print(f\"sum of {a} and {b} is {c}\")"
   ]
  },
  {
   "cell_type": "code",
   "execution_count": 24,
   "id": "a5f93b7e",
   "metadata": {},
   "outputs": [
    {
     "name": "stdout",
     "output_type": "stream",
     "text": [
      "the addition of 100 and 200 is: 300\n",
      "the substration of 100 and 200 is: -100\n",
      "the multipication of 100 and 200 is: 20000\n",
      "the division of 100 and 200 is: 0.5\n"
     ]
    }
   ],
   "source": [
    "a=100\n",
    "b=200\n",
    "c=a+b\n",
    "d=a-b\n",
    "e=a*b\n",
    "f=a/b\n",
    "print(f\"the addition of {a} and {b} is: {c}\")\n",
    "print(f\"the substration of {a} and {b} is: {d}\")\n",
    "print(f\"the multipication of {a} and {b} is: {e}\")\n",
    "print(f\"the division of {a} and {b} is: {f}\")"
   ]
  },
  {
   "cell_type": "code",
   "execution_count": 25,
   "id": "0f5293ac",
   "metadata": {},
   "outputs": [
    {
     "name": "stdout",
     "output_type": "stream",
     "text": [
      "the addition of 100 and 200 is: 300.\n",
      "the substration of 100 and 200 is: -100.\n",
      "the multipication of 100 and 200 is: 20000.\n",
      "the division of 100 and 200 is: 0.5.\n"
     ]
    }
   ],
   "source": [
    "a=100\n",
    "b=200\n",
    "\n",
    "print(f\"the addition of {a} and {b} is: {a+b}.\")\n",
    "print(f\"the substration of {a} and {b} is: {a-b}.\")\n",
    "print(f\"the multipication of {a} and {b} is: {a*b}.\")\n",
    "print(f\"the division of {a} and {b} is: {a/b}.\")"
   ]
  },
  {
   "cell_type": "code",
   "execution_count": 31,
   "id": "fb632f15",
   "metadata": {},
   "outputs": [
    {
     "name": "stdout",
     "output_type": "stream",
     "text": [
      "the average of 100, 200 and 300 is: 200.0.\n"
     ]
    }
   ],
   "source": [
    "a=100\n",
    "b=200\n",
    "c=300\n",
    "print(f\"the average of {a}, {b} and {c} is: {(a+b+c)/3}.\")"
   ]
  },
  {
   "cell_type": "code",
   "execution_count": 32,
   "id": "bd6c3786",
   "metadata": {},
   "outputs": [
    {
     "name": "stdout",
     "output_type": "stream",
     "text": [
      "the average of 1003, 2007 and 300 is: 1103.3333333333333.\n"
     ]
    }
   ],
   "source": [
    "a=1003\n",
    "b=2007\n",
    "c=300\n",
    "print(f\"the average of {a}, {b} and {c} is: {(a+b+c)/3}.\")"
   ]
  },
  {
   "cell_type": "code",
   "execution_count": 38,
   "id": "673cea9e",
   "metadata": {},
   "outputs": [
    {
     "data": {
      "text/plain": [
       "103.34"
      ]
     },
     "execution_count": 38,
     "metadata": {},
     "output_type": "execute_result"
    }
   ],
   "source": [
    "round(103.339333,2)"
   ]
  },
  {
   "cell_type": "code",
   "execution_count": 39,
   "id": "d948751b",
   "metadata": {},
   "outputs": [
    {
     "data": {
      "text/plain": [
       "35"
      ]
     },
     "execution_count": 39,
     "metadata": {},
     "output_type": "execute_result"
    }
   ],
   "source": [
    "round(34.56)"
   ]
  },
  {
   "cell_type": "code",
   "execution_count": 40,
   "id": "0a4ba928",
   "metadata": {},
   "outputs": [
    {
     "data": {
      "text/plain": [
       "34.478"
      ]
     },
     "execution_count": 40,
     "metadata": {},
     "output_type": "execute_result"
    }
   ],
   "source": [
    "round(34.477777777,1)\n",
    "round(34.477777777,2)\n",
    "round(34.477777777,3)"
   ]
  },
  {
   "cell_type": "raw",
   "id": "1d7cbe68",
   "metadata": {},
   "source": [
    "round("
   ]
  },
  {
   "cell_type": "code",
   "execution_count": 42,
   "id": "a0c4af69",
   "metadata": {},
   "outputs": [
    {
     "name": "stdout",
     "output_type": "stream",
     "text": [
      "the average of 1003, 2007 and 300 is: 1103.33.\n"
     ]
    }
   ],
   "source": [
    "a=1003\n",
    "b=2007\n",
    "c=300\n",
    "avg=round((a+b+c)/3,2)\n",
    "print(f\"the average of {a}, {b} and {c} is: {avg}.\")"
   ]
  },
  {
   "cell_type": "code",
   "execution_count": 43,
   "id": "3e890f9c",
   "metadata": {},
   "outputs": [
    {
     "name": "stdout",
     "output_type": "stream",
     "text": [
      "area of circle is 31400.0.\n"
     ]
    }
   ],
   "source": [
    "r=100\n",
    "pi=3.14\n",
    "area=pi*r*r\n",
    "print(f\"area of circle is {area}.\")"
   ]
  },
  {
   "cell_type": "code",
   "execution_count": 44,
   "id": "1f710102",
   "metadata": {},
   "outputs": [
    {
     "name": "stdout",
     "output_type": "stream",
     "text": [
      "area of triangle is 25.0.\n"
     ]
    }
   ],
   "source": [
    "b=5\n",
    "h=10\n",
    "area=0.5*b*h\n",
    "print(f\"area of triangle is {area}.\")"
   ]
  },
  {
   "cell_type": "code",
   "execution_count": 45,
   "id": "427cae30",
   "metadata": {},
   "outputs": [
    {
     "name": "stdout",
     "output_type": "stream",
     "text": [
      "the average of 1003, 2007 and 300 is: 1103.33.\n"
     ]
    }
   ],
   "source": [
    "a=1003\n",
    "b=2007\n",
    "c=300\n",
    "avg=round((a+b+c)/3,2)\n",
    "print(f\"the average of {a}, {b} and {c} is: {avg}.\")"
   ]
  },
  {
   "cell_type": "code",
   "execution_count": 47,
   "id": "167ade03",
   "metadata": {},
   "outputs": [
    {
     "name": "stdout",
     "output_type": "stream",
     "text": [
      "Total bill amount is 1050.\n"
     ]
    }
   ],
   "source": [
    "bill_amount=1000\n",
    "tip_amount=50\n",
    "total_bill=bill_amount+tip_amount\n",
    "print(f\"Total bill amount is {total_bill}.\")"
   ]
  },
  {
   "cell_type": "code",
   "execution_count": 50,
   "id": "097fcd28",
   "metadata": {},
   "outputs": [
    {
     "name": "stdout",
     "output_type": "stream",
     "text": [
      "the tax amount is 75000.0.\n"
     ]
    }
   ],
   "source": [
    "salary=250000\n",
    "tax=30\n",
    "tax_amount=salary*tax/100\n",
    "print(f\"the tax amount is {tax_amount}.\")"
   ]
  },
  {
   "cell_type": "code",
   "execution_count": 6,
   "id": "ee9661e3",
   "metadata": {},
   "outputs": [
    {
     "name": "stdout",
     "output_type": "stream",
     "text": [
      "total amount in rupees:100$*80rs=8000rs.\n"
     ]
    }
   ],
   "source": [
    "dollor=100\n",
    "rupees=80\n",
    "total=dollor*rupees\n",
    "print(f\"total amount in rupees:{dollor}$*{rupees}rs={total}rs.\")"
   ]
  },
  {
   "cell_type": "code",
   "execution_count": 9,
   "id": "b9bfb3f7",
   "metadata": {},
   "outputs": [
    {
     "name": "stdout",
     "output_type": "stream",
     "text": [
      "weight in pounds is 70kg*2.2=154.0lbs.\n"
     ]
    }
   ],
   "source": [
    "weight=70\n",
    "pounds=2.2\n",
    "total=weight*pounds\n",
    "print(f\"weight in pounds is {weight}kg*{pounds}={total}lbs.\")"
   ]
  },
  {
   "cell_type": "code",
   "execution_count": null,
   "id": "5ccc4f5e",
   "metadata": {},
   "outputs": [],
   "source": []
  }
 ],
 "metadata": {
  "kernelspec": {
   "display_name": "Python 3 (ipykernel)",
   "language": "python",
   "name": "python3"
  },
  "language_info": {
   "codemirror_mode": {
    "name": "ipython",
    "version": 3
   },
   "file_extension": ".py",
   "mimetype": "text/x-python",
   "name": "python",
   "nbconvert_exporter": "python",
   "pygments_lexer": "ipython3",
   "version": "3.9.13"
  }
 },
 "nbformat": 4,
 "nbformat_minor": 5
}
